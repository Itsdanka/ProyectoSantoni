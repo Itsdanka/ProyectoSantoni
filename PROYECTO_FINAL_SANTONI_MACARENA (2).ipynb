{
  "cells": [
    {
      "cell_type": "markdown",
      "metadata": {
        "id": "vnohbzZfU1Kn"
      },
      "source": [
        "**Resumen**\n",
        "\n",
        "Este estudio analiza un conjunto de datos detallados sobre vuelos, que incluye información sobre fechas de salida, clasificación de vuelos (cabotaje o internacional), aerolíneas, aeropuertos, localidades de origen y destino, y la cantidad de pasajeros y asientos disponibles por vuelo. El análisis permite identificar patrones de tráfico aéreo a nivel anual, la cantidad de pasajeros, la capacidad de los vuelos y la conectividad entre distintos puntos de Argentina y el resto del mundo. Se busca evaluar la frecuencia de vuelos por aeropuerto, la popularidad de diferentes destinos, y la clasificación de vuelos más utilizada."
      ]
    },
    {
      "cell_type": "markdown",
      "metadata": {
        "id": "V7xquREHVO5q"
      },
      "source": [
        "**Contexto Comercial**\n",
        "\n",
        "En el contexto de una aerolínea argentina que busca optimizar su red de vuelos y aumentar la eficiencia operativa, entender los patrones de tráfico aéreo y la distribución de pasajeros por rutas nacionales e internacionales es esencial. La empresa, con un enfoque en la mejora de la conectividad y la expansión de su red, busca maximizar la utilización de sus aeropuertos y recursos. Este análisis de datos contribuirá a la toma de decisiones estratégicas, como la asignación de vuelos a destinos más demandados, la evaluación de la capacidad de los aeropuertos, y la identificación de oportunidades para ampliar la oferta en mercados internacionales clave."
      ]
    },
    {
      "cell_type": "markdown",
      "metadata": {
        "id": "lj_pFCZgZpJE"
      },
      "source": [
        "*Hipotesis*\n",
        "\n",
        "Existe una correlación significativa entre las variables X (clasificación de vuelo, clase de vuelo, aerolínea, origen y destino por país y continente, número de asientos y vuelos) y Y (número de pasajeros), lo que sugiere una relación causal entre los factores analizados. Esto indica que las características de los vuelos (como la clase, aerolínea, la cantidad de asientos, y los destinos) pueden influir de manera significativa en el número de pasajeros transportados."
      ]
    },
    {
      "cell_type": "markdown",
      "metadata": {
        "id": "jauBEWhtVJMl"
      },
      "source": [
        "**Conlcusion**\n",
        "\n",
        "El análisis muestra una variedad de vuelos, tanto nacionales como internacionales, operados por diversas aerolíneas, como Flybondi, Aerolíneas Argentinas, LATAM y United Airlines. Se identifican vuelos regulares y no regulares, con destinos principalmente en Argentina y Brasil.\n",
        "\n",
        "Los vuelos varían en capacidad, desde pocos hasta más de 1,000 asientos, lo que refleja una diversa flota de aeronaves adaptadas a diferentes rutas. En resumen, los datos evidencian una operación aérea compleja. Existe una correlación positiva que sugeriría que cuando el número de asientos aumenta, también lo hace el número de pasajeros. Por otro lado, los outliers en el boxplot pueden representar registros inusuales, errores de entrada de datos o eventos especiales que se desvían de la norma."
      ]
    },
    {
      "cell_type": "code",
      "execution_count": 177,
      "metadata": {
        "id": "HnSRSNiAAlOl"
      },
      "outputs": [],
      "source": [
        "import pandas as pd\n",
        "import numpy as np\n",
        "import matplotlib.pyplot as plt\n",
        "import seaborn as sns\n",
        "import requests\n",
        "import io\n",
        "from google.colab import files\n",
        "from google.colab import drive\n",
        "from scipy.sparse import hstack\n",
        "from sklearn import metrics\n",
        "from sklearn.metrics import precision_score\n",
        "from sklearn.metrics import recall_score\n",
        "from sklearn.compose import ColumnTransformer\n",
        "from sklearn.preprocessing import StandardScaler, OneHotEncoder\n",
        "from sklearn.model_selection import train_test_split\n",
        "from sklearn.neighbors import KNeighborsClassifier\n",
        "from sklearn.metrics import accuracy_score, confusion_matrix, classification_report"
      ]
    },
    {
      "cell_type": "code",
      "execution_count": 178,
      "metadata": {
        "colab": {
          "base_uri": "https://localhost:8080/"
        },
        "id": "bJAfINlvAtU0",
        "outputId": "232591a5-2e80-4f3e-e7bb-e5973e7c3900"
      },
      "outputs": [
        {
          "output_type": "stream",
          "name": "stdout",
          "text": [
            "Drive already mounted at /content/drive; to attempt to forcibly remount, call drive.mount(\"/content/drive\", force_remount=True).\n"
          ]
        }
      ],
      "source": [
        "drive.mount('/content/drive')"
      ]
    },
    {
      "cell_type": "code",
      "execution_count": 179,
      "metadata": {
        "colab": {
          "base_uri": "https://localhost:8080/"
        },
        "id": "DEPMxZ9SBS_3",
        "outputId": "7ff6675d-2328-471f-9980-f033b813651e"
      },
      "outputs": [
        {
          "output_type": "execute_result",
          "data": {
            "text/plain": [
              "(15249, 20)"
            ]
          },
          "metadata": {},
          "execution_count": 179
        }
      ],
      "source": [
        "df = pd.read_excel(\"/content/drive/MyDrive/Colab/dbvuelos.xlsx\")\n",
        "df.shape"
      ]
    },
    {
      "cell_type": "code",
      "execution_count": 180,
      "metadata": {
        "colab": {
          "base_uri": "https://localhost:8080/",
          "height": 347
        },
        "id": "SFD4v3MbNHIM",
        "outputId": "45dae58e-b58a-4de7-adcf-b92e35af263f"
      },
      "outputs": [
        {
          "output_type": "execute_result",
          "data": {
            "text/plain": [
              "  indice_tiempo clasificacion_vuelo clase_vuelo              aerolinea  \\\n",
              "0    2017-01-01            Cabotaje     Regular  Aerolíneas Argentinas   \n",
              "1    2017-01-01            Cabotaje     Regular                  LATAM   \n",
              "2    2017-01-02            Cabotaje     Regular                  LATAM   \n",
              "3    2017-01-02            Cabotaje     Regular                  LATAM   \n",
              "4    2017-01-03            Cabotaje     Regular                  LATAM   \n",
              "\n",
              "  origen_oaci                     origen_aeropuerto         origen_localidad  \\\n",
              "0        SAZS  Aeropuerto Int. Tte. Luis Candelaria  San Carlos de Bariloche   \n",
              "1        SABE              Aeroparque Jorge Newbery   Ciudad de Buenos Aires   \n",
              "2        SAZN      Aeropuerto Int. Presidente Perón                  Neuquén   \n",
              "3        SAZS  Aeropuerto Int. Tte. Luis Candelaria  San Carlos de Bariloche   \n",
              "4        SAZN      Aeropuerto Int. Presidente Perón                  Neuquén   \n",
              "\n",
              "                  origen_provincia origen_pais origen_continente destino_oaci  \\\n",
              "0                        Río Negro   Argentina   América del Sur         SAVV   \n",
              "1  Ciudad Autónoma de Buenos Aires   Argentina   América del Sur         SACO   \n",
              "2                          Neuquén   Argentina   América del Sur         SABE   \n",
              "3                        Río Negro   Argentina   América del Sur         SABE   \n",
              "4                          Neuquén   Argentina   América del Sur         SABE   \n",
              "\n",
              "                             destino_aeropuerto       destino_localidad  \\\n",
              "0                           Gobernador Castello                  Viedma   \n",
              "1  Aeropuerto Int. Ingeniero Ambrosio Taravella                 Córdoba   \n",
              "2                      Aeroparque Jorge Newbery  Ciudad de Buenos Aires   \n",
              "3                      Aeroparque Jorge Newbery  Ciudad de Buenos Aires   \n",
              "4                      Aeroparque Jorge Newbery  Ciudad de Buenos Aires   \n",
              "\n",
              "                 destino_provincia destino_pais destino_continente pasajeros  \\\n",
              "0                        Río Negro    Argentina    América del Sur        14   \n",
              "1                          Córdoba    Argentina    América del Sur       375   \n",
              "2  Ciudad Autónoma de Buenos Aires    Argentina    América del Sur       427   \n",
              "3  Ciudad Autónoma de Buenos Aires    Argentina    América del Sur       465   \n",
              "4  Ciudad Autónoma de Buenos Aires    Argentina    América del Sur       318   \n",
              "\n",
              "  asientos  vuelos  Unnamed: 19  \n",
              "0       96       1          NaN  \n",
              "1      504       3          NaN  \n",
              "2      504       3          NaN  \n",
              "3      672       4          NaN  \n",
              "4      336       2          NaN  "
            ],
            "text/html": [
              "\n",
              "  <div id=\"df-6a5aab1f-139d-4269-81c0-9645395e552b\" class=\"colab-df-container\">\n",
              "    <div>\n",
              "<style scoped>\n",
              "    .dataframe tbody tr th:only-of-type {\n",
              "        vertical-align: middle;\n",
              "    }\n",
              "\n",
              "    .dataframe tbody tr th {\n",
              "        vertical-align: top;\n",
              "    }\n",
              "\n",
              "    .dataframe thead th {\n",
              "        text-align: right;\n",
              "    }\n",
              "</style>\n",
              "<table border=\"1\" class=\"dataframe\">\n",
              "  <thead>\n",
              "    <tr style=\"text-align: right;\">\n",
              "      <th></th>\n",
              "      <th>indice_tiempo</th>\n",
              "      <th>clasificacion_vuelo</th>\n",
              "      <th>clase_vuelo</th>\n",
              "      <th>aerolinea</th>\n",
              "      <th>origen_oaci</th>\n",
              "      <th>origen_aeropuerto</th>\n",
              "      <th>origen_localidad</th>\n",
              "      <th>origen_provincia</th>\n",
              "      <th>origen_pais</th>\n",
              "      <th>origen_continente</th>\n",
              "      <th>destino_oaci</th>\n",
              "      <th>destino_aeropuerto</th>\n",
              "      <th>destino_localidad</th>\n",
              "      <th>destino_provincia</th>\n",
              "      <th>destino_pais</th>\n",
              "      <th>destino_continente</th>\n",
              "      <th>pasajeros</th>\n",
              "      <th>asientos</th>\n",
              "      <th>vuelos</th>\n",
              "      <th>Unnamed: 19</th>\n",
              "    </tr>\n",
              "  </thead>\n",
              "  <tbody>\n",
              "    <tr>\n",
              "      <th>0</th>\n",
              "      <td>2017-01-01</td>\n",
              "      <td>Cabotaje</td>\n",
              "      <td>Regular</td>\n",
              "      <td>Aerolíneas Argentinas</td>\n",
              "      <td>SAZS</td>\n",
              "      <td>Aeropuerto Int. Tte. Luis Candelaria</td>\n",
              "      <td>San Carlos de Bariloche</td>\n",
              "      <td>Río Negro</td>\n",
              "      <td>Argentina</td>\n",
              "      <td>América del Sur</td>\n",
              "      <td>SAVV</td>\n",
              "      <td>Gobernador Castello</td>\n",
              "      <td>Viedma</td>\n",
              "      <td>Río Negro</td>\n",
              "      <td>Argentina</td>\n",
              "      <td>América del Sur</td>\n",
              "      <td>14</td>\n",
              "      <td>96</td>\n",
              "      <td>1</td>\n",
              "      <td>NaN</td>\n",
              "    </tr>\n",
              "    <tr>\n",
              "      <th>1</th>\n",
              "      <td>2017-01-01</td>\n",
              "      <td>Cabotaje</td>\n",
              "      <td>Regular</td>\n",
              "      <td>LATAM</td>\n",
              "      <td>SABE</td>\n",
              "      <td>Aeroparque Jorge Newbery</td>\n",
              "      <td>Ciudad de Buenos Aires</td>\n",
              "      <td>Ciudad Autónoma de Buenos Aires</td>\n",
              "      <td>Argentina</td>\n",
              "      <td>América del Sur</td>\n",
              "      <td>SACO</td>\n",
              "      <td>Aeropuerto Int. Ingeniero Ambrosio Taravella</td>\n",
              "      <td>Córdoba</td>\n",
              "      <td>Córdoba</td>\n",
              "      <td>Argentina</td>\n",
              "      <td>América del Sur</td>\n",
              "      <td>375</td>\n",
              "      <td>504</td>\n",
              "      <td>3</td>\n",
              "      <td>NaN</td>\n",
              "    </tr>\n",
              "    <tr>\n",
              "      <th>2</th>\n",
              "      <td>2017-01-02</td>\n",
              "      <td>Cabotaje</td>\n",
              "      <td>Regular</td>\n",
              "      <td>LATAM</td>\n",
              "      <td>SAZN</td>\n",
              "      <td>Aeropuerto Int. Presidente Perón</td>\n",
              "      <td>Neuquén</td>\n",
              "      <td>Neuquén</td>\n",
              "      <td>Argentina</td>\n",
              "      <td>América del Sur</td>\n",
              "      <td>SABE</td>\n",
              "      <td>Aeroparque Jorge Newbery</td>\n",
              "      <td>Ciudad de Buenos Aires</td>\n",
              "      <td>Ciudad Autónoma de Buenos Aires</td>\n",
              "      <td>Argentina</td>\n",
              "      <td>América del Sur</td>\n",
              "      <td>427</td>\n",
              "      <td>504</td>\n",
              "      <td>3</td>\n",
              "      <td>NaN</td>\n",
              "    </tr>\n",
              "    <tr>\n",
              "      <th>3</th>\n",
              "      <td>2017-01-02</td>\n",
              "      <td>Cabotaje</td>\n",
              "      <td>Regular</td>\n",
              "      <td>LATAM</td>\n",
              "      <td>SAZS</td>\n",
              "      <td>Aeropuerto Int. Tte. Luis Candelaria</td>\n",
              "      <td>San Carlos de Bariloche</td>\n",
              "      <td>Río Negro</td>\n",
              "      <td>Argentina</td>\n",
              "      <td>América del Sur</td>\n",
              "      <td>SABE</td>\n",
              "      <td>Aeroparque Jorge Newbery</td>\n",
              "      <td>Ciudad de Buenos Aires</td>\n",
              "      <td>Ciudad Autónoma de Buenos Aires</td>\n",
              "      <td>Argentina</td>\n",
              "      <td>América del Sur</td>\n",
              "      <td>465</td>\n",
              "      <td>672</td>\n",
              "      <td>4</td>\n",
              "      <td>NaN</td>\n",
              "    </tr>\n",
              "    <tr>\n",
              "      <th>4</th>\n",
              "      <td>2017-01-03</td>\n",
              "      <td>Cabotaje</td>\n",
              "      <td>Regular</td>\n",
              "      <td>LATAM</td>\n",
              "      <td>SAZN</td>\n",
              "      <td>Aeropuerto Int. Presidente Perón</td>\n",
              "      <td>Neuquén</td>\n",
              "      <td>Neuquén</td>\n",
              "      <td>Argentina</td>\n",
              "      <td>América del Sur</td>\n",
              "      <td>SABE</td>\n",
              "      <td>Aeroparque Jorge Newbery</td>\n",
              "      <td>Ciudad de Buenos Aires</td>\n",
              "      <td>Ciudad Autónoma de Buenos Aires</td>\n",
              "      <td>Argentina</td>\n",
              "      <td>América del Sur</td>\n",
              "      <td>318</td>\n",
              "      <td>336</td>\n",
              "      <td>2</td>\n",
              "      <td>NaN</td>\n",
              "    </tr>\n",
              "  </tbody>\n",
              "</table>\n",
              "</div>\n",
              "    <div class=\"colab-df-buttons\">\n",
              "\n",
              "  <div class=\"colab-df-container\">\n",
              "    <button class=\"colab-df-convert\" onclick=\"convertToInteractive('df-6a5aab1f-139d-4269-81c0-9645395e552b')\"\n",
              "            title=\"Convert this dataframe to an interactive table.\"\n",
              "            style=\"display:none;\">\n",
              "\n",
              "  <svg xmlns=\"http://www.w3.org/2000/svg\" height=\"24px\" viewBox=\"0 -960 960 960\">\n",
              "    <path d=\"M120-120v-720h720v720H120Zm60-500h600v-160H180v160Zm220 220h160v-160H400v160Zm0 220h160v-160H400v160ZM180-400h160v-160H180v160Zm440 0h160v-160H620v160ZM180-180h160v-160H180v160Zm440 0h160v-160H620v160Z\"/>\n",
              "  </svg>\n",
              "    </button>\n",
              "\n",
              "  <style>\n",
              "    .colab-df-container {\n",
              "      display:flex;\n",
              "      gap: 12px;\n",
              "    }\n",
              "\n",
              "    .colab-df-convert {\n",
              "      background-color: #E8F0FE;\n",
              "      border: none;\n",
              "      border-radius: 50%;\n",
              "      cursor: pointer;\n",
              "      display: none;\n",
              "      fill: #1967D2;\n",
              "      height: 32px;\n",
              "      padding: 0 0 0 0;\n",
              "      width: 32px;\n",
              "    }\n",
              "\n",
              "    .colab-df-convert:hover {\n",
              "      background-color: #E2EBFA;\n",
              "      box-shadow: 0px 1px 2px rgba(60, 64, 67, 0.3), 0px 1px 3px 1px rgba(60, 64, 67, 0.15);\n",
              "      fill: #174EA6;\n",
              "    }\n",
              "\n",
              "    .colab-df-buttons div {\n",
              "      margin-bottom: 4px;\n",
              "    }\n",
              "\n",
              "    [theme=dark] .colab-df-convert {\n",
              "      background-color: #3B4455;\n",
              "      fill: #D2E3FC;\n",
              "    }\n",
              "\n",
              "    [theme=dark] .colab-df-convert:hover {\n",
              "      background-color: #434B5C;\n",
              "      box-shadow: 0px 1px 3px 1px rgba(0, 0, 0, 0.15);\n",
              "      filter: drop-shadow(0px 1px 2px rgba(0, 0, 0, 0.3));\n",
              "      fill: #FFFFFF;\n",
              "    }\n",
              "  </style>\n",
              "\n",
              "    <script>\n",
              "      const buttonEl =\n",
              "        document.querySelector('#df-6a5aab1f-139d-4269-81c0-9645395e552b button.colab-df-convert');\n",
              "      buttonEl.style.display =\n",
              "        google.colab.kernel.accessAllowed ? 'block' : 'none';\n",
              "\n",
              "      async function convertToInteractive(key) {\n",
              "        const element = document.querySelector('#df-6a5aab1f-139d-4269-81c0-9645395e552b');\n",
              "        const dataTable =\n",
              "          await google.colab.kernel.invokeFunction('convertToInteractive',\n",
              "                                                    [key], {});\n",
              "        if (!dataTable) return;\n",
              "\n",
              "        const docLinkHtml = 'Like what you see? Visit the ' +\n",
              "          '<a target=\"_blank\" href=https://colab.research.google.com/notebooks/data_table.ipynb>data table notebook</a>'\n",
              "          + ' to learn more about interactive tables.';\n",
              "        element.innerHTML = '';\n",
              "        dataTable['output_type'] = 'display_data';\n",
              "        await google.colab.output.renderOutput(dataTable, element);\n",
              "        const docLink = document.createElement('div');\n",
              "        docLink.innerHTML = docLinkHtml;\n",
              "        element.appendChild(docLink);\n",
              "      }\n",
              "    </script>\n",
              "  </div>\n",
              "\n",
              "\n",
              "<div id=\"df-f929d920-f45b-451f-ba70-60240b4ef37a\">\n",
              "  <button class=\"colab-df-quickchart\" onclick=\"quickchart('df-f929d920-f45b-451f-ba70-60240b4ef37a')\"\n",
              "            title=\"Suggest charts\"\n",
              "            style=\"display:none;\">\n",
              "\n",
              "<svg xmlns=\"http://www.w3.org/2000/svg\" height=\"24px\"viewBox=\"0 0 24 24\"\n",
              "     width=\"24px\">\n",
              "    <g>\n",
              "        <path d=\"M19 3H5c-1.1 0-2 .9-2 2v14c0 1.1.9 2 2 2h14c1.1 0 2-.9 2-2V5c0-1.1-.9-2-2-2zM9 17H7v-7h2v7zm4 0h-2V7h2v10zm4 0h-2v-4h2v4z\"/>\n",
              "    </g>\n",
              "</svg>\n",
              "  </button>\n",
              "\n",
              "<style>\n",
              "  .colab-df-quickchart {\n",
              "      --bg-color: #E8F0FE;\n",
              "      --fill-color: #1967D2;\n",
              "      --hover-bg-color: #E2EBFA;\n",
              "      --hover-fill-color: #174EA6;\n",
              "      --disabled-fill-color: #AAA;\n",
              "      --disabled-bg-color: #DDD;\n",
              "  }\n",
              "\n",
              "  [theme=dark] .colab-df-quickchart {\n",
              "      --bg-color: #3B4455;\n",
              "      --fill-color: #D2E3FC;\n",
              "      --hover-bg-color: #434B5C;\n",
              "      --hover-fill-color: #FFFFFF;\n",
              "      --disabled-bg-color: #3B4455;\n",
              "      --disabled-fill-color: #666;\n",
              "  }\n",
              "\n",
              "  .colab-df-quickchart {\n",
              "    background-color: var(--bg-color);\n",
              "    border: none;\n",
              "    border-radius: 50%;\n",
              "    cursor: pointer;\n",
              "    display: none;\n",
              "    fill: var(--fill-color);\n",
              "    height: 32px;\n",
              "    padding: 0;\n",
              "    width: 32px;\n",
              "  }\n",
              "\n",
              "  .colab-df-quickchart:hover {\n",
              "    background-color: var(--hover-bg-color);\n",
              "    box-shadow: 0 1px 2px rgba(60, 64, 67, 0.3), 0 1px 3px 1px rgba(60, 64, 67, 0.15);\n",
              "    fill: var(--button-hover-fill-color);\n",
              "  }\n",
              "\n",
              "  .colab-df-quickchart-complete:disabled,\n",
              "  .colab-df-quickchart-complete:disabled:hover {\n",
              "    background-color: var(--disabled-bg-color);\n",
              "    fill: var(--disabled-fill-color);\n",
              "    box-shadow: none;\n",
              "  }\n",
              "\n",
              "  .colab-df-spinner {\n",
              "    border: 2px solid var(--fill-color);\n",
              "    border-color: transparent;\n",
              "    border-bottom-color: var(--fill-color);\n",
              "    animation:\n",
              "      spin 1s steps(1) infinite;\n",
              "  }\n",
              "\n",
              "  @keyframes spin {\n",
              "    0% {\n",
              "      border-color: transparent;\n",
              "      border-bottom-color: var(--fill-color);\n",
              "      border-left-color: var(--fill-color);\n",
              "    }\n",
              "    20% {\n",
              "      border-color: transparent;\n",
              "      border-left-color: var(--fill-color);\n",
              "      border-top-color: var(--fill-color);\n",
              "    }\n",
              "    30% {\n",
              "      border-color: transparent;\n",
              "      border-left-color: var(--fill-color);\n",
              "      border-top-color: var(--fill-color);\n",
              "      border-right-color: var(--fill-color);\n",
              "    }\n",
              "    40% {\n",
              "      border-color: transparent;\n",
              "      border-right-color: var(--fill-color);\n",
              "      border-top-color: var(--fill-color);\n",
              "    }\n",
              "    60% {\n",
              "      border-color: transparent;\n",
              "      border-right-color: var(--fill-color);\n",
              "    }\n",
              "    80% {\n",
              "      border-color: transparent;\n",
              "      border-right-color: var(--fill-color);\n",
              "      border-bottom-color: var(--fill-color);\n",
              "    }\n",
              "    90% {\n",
              "      border-color: transparent;\n",
              "      border-bottom-color: var(--fill-color);\n",
              "    }\n",
              "  }\n",
              "</style>\n",
              "\n",
              "  <script>\n",
              "    async function quickchart(key) {\n",
              "      const quickchartButtonEl =\n",
              "        document.querySelector('#' + key + ' button');\n",
              "      quickchartButtonEl.disabled = true;  // To prevent multiple clicks.\n",
              "      quickchartButtonEl.classList.add('colab-df-spinner');\n",
              "      try {\n",
              "        const charts = await google.colab.kernel.invokeFunction(\n",
              "            'suggestCharts', [key], {});\n",
              "      } catch (error) {\n",
              "        console.error('Error during call to suggestCharts:', error);\n",
              "      }\n",
              "      quickchartButtonEl.classList.remove('colab-df-spinner');\n",
              "      quickchartButtonEl.classList.add('colab-df-quickchart-complete');\n",
              "    }\n",
              "    (() => {\n",
              "      let quickchartButtonEl =\n",
              "        document.querySelector('#df-f929d920-f45b-451f-ba70-60240b4ef37a button');\n",
              "      quickchartButtonEl.style.display =\n",
              "        google.colab.kernel.accessAllowed ? 'block' : 'none';\n",
              "    })();\n",
              "  </script>\n",
              "</div>\n",
              "\n",
              "    </div>\n",
              "  </div>\n"
            ],
            "application/vnd.google.colaboratory.intrinsic+json": {
              "type": "dataframe",
              "variable_name": "df",
              "summary": "{\n  \"name\": \"df\",\n  \"rows\": 15249,\n  \"fields\": [\n    {\n      \"column\": \"indice_tiempo\",\n      \"properties\": {\n        \"dtype\": \"date\",\n        \"min\": \"2017-01-01 00:00:00\",\n        \"max\": \"2024-09-30 00:00:00\",\n        \"num_unique_values\": 2317,\n        \"samples\": [\n          \"2019-07-24 00:00:00\",\n          \"2018-07-04 00:00:00\",\n          \"2017-04-12 00:00:00\"\n        ],\n        \"semantic_type\": \"\",\n        \"description\": \"\"\n      }\n    },\n    {\n      \"column\": \"clasificacion_vuelo\",\n      \"properties\": {\n        \"dtype\": \"category\",\n        \"num_unique_values\": 2,\n        \"samples\": [\n          \"Internacional\",\n          \"Cabotaje\"\n        ],\n        \"semantic_type\": \"\",\n        \"description\": \"\"\n      }\n    },\n    {\n      \"column\": \"clase_vuelo\",\n      \"properties\": {\n        \"dtype\": \"category\",\n        \"num_unique_values\": 2,\n        \"samples\": [\n          \"No Regular\",\n          \"Regular\"\n        ],\n        \"semantic_type\": \"\",\n        \"description\": \"\"\n      }\n    },\n    {\n      \"column\": \"aerolinea\",\n      \"properties\": {\n        \"dtype\": \"category\",\n        \"num_unique_values\": 22,\n        \"samples\": [\n          \"Aerol\\u00edneas Argentinas\",\n          \"ASL Airlines France\"\n        ],\n        \"semantic_type\": \"\",\n        \"description\": \"\"\n      }\n    },\n    {\n      \"column\": \"origen_oaci\",\n      \"properties\": {\n        \"dtype\": \"category\",\n        \"num_unique_values\": 46,\n        \"samples\": [\n          \"SAZR\",\n          \"SATR\"\n        ],\n        \"semantic_type\": \"\",\n        \"description\": \"\"\n      }\n    },\n    {\n      \"column\": \"origen_aeropuerto\",\n      \"properties\": {\n        \"dtype\": \"category\",\n        \"num_unique_values\": 48,\n        \"samples\": [\n          \"Aeropuerto Int. Termas de R\\u00edo Hondo\",\n          \"Santa Rosa\"\n        ],\n        \"semantic_type\": \"\",\n        \"description\": \"\"\n      }\n    },\n    {\n      \"column\": \"origen_localidad\",\n      \"properties\": {\n        \"dtype\": \"category\",\n        \"num_unique_values\": 46,\n        \"samples\": [\n          \"Santa Rosa\",\n          \"Reconquista\"\n        ],\n        \"semantic_type\": \"\",\n        \"description\": \"\"\n      }\n    },\n    {\n      \"column\": \"origen_provincia\",\n      \"properties\": {\n        \"dtype\": \"category\",\n        \"num_unique_values\": 24,\n        \"samples\": [\n          \"San Juan\",\n          \"La Rioja\"\n        ],\n        \"semantic_type\": \"\",\n        \"description\": \"\"\n      }\n    },\n    {\n      \"column\": \"origen_pais\",\n      \"properties\": {\n        \"dtype\": \"category\",\n        \"num_unique_values\": 2,\n        \"samples\": [\n          \" Argentina\",\n          \"Argentina\"\n        ],\n        \"semantic_type\": \"\",\n        \"description\": \"\"\n      }\n    },\n    {\n      \"column\": \"origen_continente\",\n      \"properties\": {\n        \"dtype\": \"category\",\n        \"num_unique_values\": 2,\n        \"samples\": [\n          \"Argentina\",\n          \"Am\\u00e9rica del Sur\"\n        ],\n        \"semantic_type\": \"\",\n        \"description\": \"\"\n      }\n    },\n    {\n      \"column\": \"destino_oaci\",\n      \"properties\": {\n        \"dtype\": \"category\",\n        \"num_unique_values\": 50,\n        \"samples\": [\n          \"SAOU\",\n          \"SAVT\"\n        ],\n        \"semantic_type\": \"\",\n        \"description\": \"\"\n      }\n    },\n    {\n      \"column\": \"destino_aeropuerto\",\n      \"properties\": {\n        \"dtype\": \"category\",\n        \"num_unique_values\": 64,\n        \"samples\": [\n          \"SAWC\",\n          \"SAWH\"\n        ],\n        \"semantic_type\": \"\",\n        \"description\": \"\"\n      }\n    },\n    {\n      \"column\": \"destino_localidad\",\n      \"properties\": {\n        \"dtype\": \"category\",\n        \"num_unique_values\": 61,\n        \"samples\": [\n          \"Viedma\",\n          \"Mar del Plata\"\n        ],\n        \"semantic_type\": \"\",\n        \"description\": \"\"\n      }\n    },\n    {\n      \"column\": \"destino_provincia\",\n      \"properties\": {\n        \"dtype\": \"category\",\n        \"num_unique_values\": 37,\n        \"samples\": [\n          \"Entre R\\u00edos\",\n          \"San Juan\"\n        ],\n        \"semantic_type\": \"\",\n        \"description\": \"\"\n      }\n    },\n    {\n      \"column\": \"destino_pais\",\n      \"properties\": {\n        \"dtype\": \"category\",\n        \"num_unique_values\": 9,\n        \"samples\": [\n          \"C\\u00f3rdoba\",\n          \"Chile\"\n        ],\n        \"semantic_type\": \"\",\n        \"description\": \"\"\n      }\n    },\n    {\n      \"column\": \"destino_continente\",\n      \"properties\": {\n        \"dtype\": \"category\",\n        \"num_unique_values\": 5,\n        \"samples\": [\n          \"Brasil\",\n          \" Argentina\"\n        ],\n        \"semantic_type\": \"\",\n        \"description\": \"\"\n      }\n    },\n    {\n      \"column\": \"pasajeros\",\n      \"properties\": {\n        \"dtype\": \"category\",\n        \"num_unique_values\": 1003,\n        \"samples\": [\n          641,\n          344\n        ],\n        \"semantic_type\": \"\",\n        \"description\": \"\"\n      }\n    },\n    {\n      \"column\": \"asientos\",\n      \"properties\": {\n        \"dtype\": \"category\",\n        \"num_unique_values\": 758,\n        \"samples\": [\n          148,\n          64\n        ],\n        \"semantic_type\": \"\",\n        \"description\": \"\"\n      }\n    },\n    {\n      \"column\": \"vuelos\",\n      \"properties\": {\n        \"dtype\": \"number\",\n        \"std\": 82,\n        \"min\": 1,\n        \"max\": 1292,\n        \"num_unique_values\": 117,\n        \"samples\": [\n          30,\n          5\n        ],\n        \"semantic_type\": \"\",\n        \"description\": \"\"\n      }\n    },\n    {\n      \"column\": \"Unnamed: 19\",\n      \"properties\": {\n        \"dtype\": \"number\",\n        \"std\": 0.0,\n        \"min\": 1.0,\n        \"max\": 1.0,\n        \"num_unique_values\": 1,\n        \"samples\": [\n          1.0\n        ],\n        \"semantic_type\": \"\",\n        \"description\": \"\"\n      }\n    }\n  ]\n}"
            }
          },
          "metadata": {},
          "execution_count": 180
        }
      ],
      "source": [
        "file_path=\"/content/drive/MyDrive/Colab/dbvuelos.xlsx\"\n",
        "\n",
        "df = pd.read_excel(file_path)\n",
        "\n",
        "df.head()"
      ]
    },
    {
      "cell_type": "code",
      "execution_count": 181,
      "metadata": {
        "colab": {
          "base_uri": "https://localhost:8080/",
          "height": 840
        },
        "collapsed": true,
        "id": "rmd4sHN8B1io",
        "outputId": "69fcd97f-4e2c-4fc0-98b1-fbe56988a98e"
      },
      "outputs": [
        {
          "output_type": "stream",
          "name": "stdout",
          "text": [
            "<class 'pandas.core.frame.DataFrame'>\n",
            "RangeIndex: 15249 entries, 0 to 15248\n",
            "Data columns (total 20 columns):\n",
            " #   Column               Non-Null Count  Dtype         \n",
            "---  ------               --------------  -----         \n",
            " 0   indice_tiempo        15249 non-null  datetime64[ns]\n",
            " 1   clasificacion_vuelo  15249 non-null  object        \n",
            " 2   clase_vuelo          15249 non-null  object        \n",
            " 3   aerolinea            15249 non-null  object        \n",
            " 4   origen_oaci          15248 non-null  object        \n",
            " 5   origen_aeropuerto    15249 non-null  object        \n",
            " 6   origen_localidad     15249 non-null  object        \n",
            " 7   origen_provincia     15249 non-null  object        \n",
            " 8   origen_pais          15249 non-null  object        \n",
            " 9   origen_continente    15249 non-null  object        \n",
            " 10  destino_oaci         15249 non-null  object        \n",
            " 11  destino_aeropuerto   15249 non-null  object        \n",
            " 12  destino_localidad    15249 non-null  object        \n",
            " 13  destino_provincia    15249 non-null  object        \n",
            " 14  destino_pais         15222 non-null  object        \n",
            " 15  destino_continente   15249 non-null  object        \n",
            " 16  pasajeros            15249 non-null  object        \n",
            " 17  asientos             15249 non-null  object        \n",
            " 18  vuelos               15249 non-null  int64         \n",
            " 19  Unnamed: 19          12 non-null     float64       \n",
            "dtypes: datetime64[ns](1), float64(1), int64(1), object(17)\n",
            "memory usage: 2.3+ MB\n"
          ]
        },
        {
          "output_type": "execute_result",
          "data": {
            "text/plain": [
              "  indice_tiempo clasificacion_vuelo clase_vuelo              aerolinea  \\\n",
              "0    2017-01-01            Cabotaje     Regular  Aerolíneas Argentinas   \n",
              "1    2017-01-01            Cabotaje     Regular                  LATAM   \n",
              "2    2017-01-02            Cabotaje     Regular                  LATAM   \n",
              "3    2017-01-02            Cabotaje     Regular                  LATAM   \n",
              "4    2017-01-03            Cabotaje     Regular                  LATAM   \n",
              "\n",
              "  origen_oaci                     origen_aeropuerto         origen_localidad  \\\n",
              "0        SAZS  Aeropuerto Int. Tte. Luis Candelaria  San Carlos de Bariloche   \n",
              "1        SABE              Aeroparque Jorge Newbery   Ciudad de Buenos Aires   \n",
              "2        SAZN      Aeropuerto Int. Presidente Perón                  Neuquén   \n",
              "3        SAZS  Aeropuerto Int. Tte. Luis Candelaria  San Carlos de Bariloche   \n",
              "4        SAZN      Aeropuerto Int. Presidente Perón                  Neuquén   \n",
              "\n",
              "                  origen_provincia origen_pais origen_continente destino_oaci  \\\n",
              "0                        Río Negro   Argentina   América del Sur         SAVV   \n",
              "1  Ciudad Autónoma de Buenos Aires   Argentina   América del Sur         SACO   \n",
              "2                          Neuquén   Argentina   América del Sur         SABE   \n",
              "3                        Río Negro   Argentina   América del Sur         SABE   \n",
              "4                          Neuquén   Argentina   América del Sur         SABE   \n",
              "\n",
              "                             destino_aeropuerto       destino_localidad  \\\n",
              "0                           Gobernador Castello                  Viedma   \n",
              "1  Aeropuerto Int. Ingeniero Ambrosio Taravella                 Córdoba   \n",
              "2                      Aeroparque Jorge Newbery  Ciudad de Buenos Aires   \n",
              "3                      Aeroparque Jorge Newbery  Ciudad de Buenos Aires   \n",
              "4                      Aeroparque Jorge Newbery  Ciudad de Buenos Aires   \n",
              "\n",
              "                 destino_provincia destino_pais destino_continente pasajeros  \\\n",
              "0                        Río Negro    Argentina    América del Sur        14   \n",
              "1                          Córdoba    Argentina    América del Sur       375   \n",
              "2  Ciudad Autónoma de Buenos Aires    Argentina    América del Sur       427   \n",
              "3  Ciudad Autónoma de Buenos Aires    Argentina    América del Sur       465   \n",
              "4  Ciudad Autónoma de Buenos Aires    Argentina    América del Sur       318   \n",
              "\n",
              "  asientos  vuelos  Unnamed: 19  \n",
              "0       96       1          NaN  \n",
              "1      504       3          NaN  \n",
              "2      504       3          NaN  \n",
              "3      672       4          NaN  \n",
              "4      336       2          NaN  "
            ],
            "text/html": [
              "\n",
              "  <div id=\"df-9c0871d7-d1d5-4659-b056-c734163b1958\" class=\"colab-df-container\">\n",
              "    <div>\n",
              "<style scoped>\n",
              "    .dataframe tbody tr th:only-of-type {\n",
              "        vertical-align: middle;\n",
              "    }\n",
              "\n",
              "    .dataframe tbody tr th {\n",
              "        vertical-align: top;\n",
              "    }\n",
              "\n",
              "    .dataframe thead th {\n",
              "        text-align: right;\n",
              "    }\n",
              "</style>\n",
              "<table border=\"1\" class=\"dataframe\">\n",
              "  <thead>\n",
              "    <tr style=\"text-align: right;\">\n",
              "      <th></th>\n",
              "      <th>indice_tiempo</th>\n",
              "      <th>clasificacion_vuelo</th>\n",
              "      <th>clase_vuelo</th>\n",
              "      <th>aerolinea</th>\n",
              "      <th>origen_oaci</th>\n",
              "      <th>origen_aeropuerto</th>\n",
              "      <th>origen_localidad</th>\n",
              "      <th>origen_provincia</th>\n",
              "      <th>origen_pais</th>\n",
              "      <th>origen_continente</th>\n",
              "      <th>destino_oaci</th>\n",
              "      <th>destino_aeropuerto</th>\n",
              "      <th>destino_localidad</th>\n",
              "      <th>destino_provincia</th>\n",
              "      <th>destino_pais</th>\n",
              "      <th>destino_continente</th>\n",
              "      <th>pasajeros</th>\n",
              "      <th>asientos</th>\n",
              "      <th>vuelos</th>\n",
              "      <th>Unnamed: 19</th>\n",
              "    </tr>\n",
              "  </thead>\n",
              "  <tbody>\n",
              "    <tr>\n",
              "      <th>0</th>\n",
              "      <td>2017-01-01</td>\n",
              "      <td>Cabotaje</td>\n",
              "      <td>Regular</td>\n",
              "      <td>Aerolíneas Argentinas</td>\n",
              "      <td>SAZS</td>\n",
              "      <td>Aeropuerto Int. Tte. Luis Candelaria</td>\n",
              "      <td>San Carlos de Bariloche</td>\n",
              "      <td>Río Negro</td>\n",
              "      <td>Argentina</td>\n",
              "      <td>América del Sur</td>\n",
              "      <td>SAVV</td>\n",
              "      <td>Gobernador Castello</td>\n",
              "      <td>Viedma</td>\n",
              "      <td>Río Negro</td>\n",
              "      <td>Argentina</td>\n",
              "      <td>América del Sur</td>\n",
              "      <td>14</td>\n",
              "      <td>96</td>\n",
              "      <td>1</td>\n",
              "      <td>NaN</td>\n",
              "    </tr>\n",
              "    <tr>\n",
              "      <th>1</th>\n",
              "      <td>2017-01-01</td>\n",
              "      <td>Cabotaje</td>\n",
              "      <td>Regular</td>\n",
              "      <td>LATAM</td>\n",
              "      <td>SABE</td>\n",
              "      <td>Aeroparque Jorge Newbery</td>\n",
              "      <td>Ciudad de Buenos Aires</td>\n",
              "      <td>Ciudad Autónoma de Buenos Aires</td>\n",
              "      <td>Argentina</td>\n",
              "      <td>América del Sur</td>\n",
              "      <td>SACO</td>\n",
              "      <td>Aeropuerto Int. Ingeniero Ambrosio Taravella</td>\n",
              "      <td>Córdoba</td>\n",
              "      <td>Córdoba</td>\n",
              "      <td>Argentina</td>\n",
              "      <td>América del Sur</td>\n",
              "      <td>375</td>\n",
              "      <td>504</td>\n",
              "      <td>3</td>\n",
              "      <td>NaN</td>\n",
              "    </tr>\n",
              "    <tr>\n",
              "      <th>2</th>\n",
              "      <td>2017-01-02</td>\n",
              "      <td>Cabotaje</td>\n",
              "      <td>Regular</td>\n",
              "      <td>LATAM</td>\n",
              "      <td>SAZN</td>\n",
              "      <td>Aeropuerto Int. Presidente Perón</td>\n",
              "      <td>Neuquén</td>\n",
              "      <td>Neuquén</td>\n",
              "      <td>Argentina</td>\n",
              "      <td>América del Sur</td>\n",
              "      <td>SABE</td>\n",
              "      <td>Aeroparque Jorge Newbery</td>\n",
              "      <td>Ciudad de Buenos Aires</td>\n",
              "      <td>Ciudad Autónoma de Buenos Aires</td>\n",
              "      <td>Argentina</td>\n",
              "      <td>América del Sur</td>\n",
              "      <td>427</td>\n",
              "      <td>504</td>\n",
              "      <td>3</td>\n",
              "      <td>NaN</td>\n",
              "    </tr>\n",
              "    <tr>\n",
              "      <th>3</th>\n",
              "      <td>2017-01-02</td>\n",
              "      <td>Cabotaje</td>\n",
              "      <td>Regular</td>\n",
              "      <td>LATAM</td>\n",
              "      <td>SAZS</td>\n",
              "      <td>Aeropuerto Int. Tte. Luis Candelaria</td>\n",
              "      <td>San Carlos de Bariloche</td>\n",
              "      <td>Río Negro</td>\n",
              "      <td>Argentina</td>\n",
              "      <td>América del Sur</td>\n",
              "      <td>SABE</td>\n",
              "      <td>Aeroparque Jorge Newbery</td>\n",
              "      <td>Ciudad de Buenos Aires</td>\n",
              "      <td>Ciudad Autónoma de Buenos Aires</td>\n",
              "      <td>Argentina</td>\n",
              "      <td>América del Sur</td>\n",
              "      <td>465</td>\n",
              "      <td>672</td>\n",
              "      <td>4</td>\n",
              "      <td>NaN</td>\n",
              "    </tr>\n",
              "    <tr>\n",
              "      <th>4</th>\n",
              "      <td>2017-01-03</td>\n",
              "      <td>Cabotaje</td>\n",
              "      <td>Regular</td>\n",
              "      <td>LATAM</td>\n",
              "      <td>SAZN</td>\n",
              "      <td>Aeropuerto Int. Presidente Perón</td>\n",
              "      <td>Neuquén</td>\n",
              "      <td>Neuquén</td>\n",
              "      <td>Argentina</td>\n",
              "      <td>América del Sur</td>\n",
              "      <td>SABE</td>\n",
              "      <td>Aeroparque Jorge Newbery</td>\n",
              "      <td>Ciudad de Buenos Aires</td>\n",
              "      <td>Ciudad Autónoma de Buenos Aires</td>\n",
              "      <td>Argentina</td>\n",
              "      <td>América del Sur</td>\n",
              "      <td>318</td>\n",
              "      <td>336</td>\n",
              "      <td>2</td>\n",
              "      <td>NaN</td>\n",
              "    </tr>\n",
              "  </tbody>\n",
              "</table>\n",
              "</div>\n",
              "    <div class=\"colab-df-buttons\">\n",
              "\n",
              "  <div class=\"colab-df-container\">\n",
              "    <button class=\"colab-df-convert\" onclick=\"convertToInteractive('df-9c0871d7-d1d5-4659-b056-c734163b1958')\"\n",
              "            title=\"Convert this dataframe to an interactive table.\"\n",
              "            style=\"display:none;\">\n",
              "\n",
              "  <svg xmlns=\"http://www.w3.org/2000/svg\" height=\"24px\" viewBox=\"0 -960 960 960\">\n",
              "    <path d=\"M120-120v-720h720v720H120Zm60-500h600v-160H180v160Zm220 220h160v-160H400v160Zm0 220h160v-160H400v160ZM180-400h160v-160H180v160Zm440 0h160v-160H620v160ZM180-180h160v-160H180v160Zm440 0h160v-160H620v160Z\"/>\n",
              "  </svg>\n",
              "    </button>\n",
              "\n",
              "  <style>\n",
              "    .colab-df-container {\n",
              "      display:flex;\n",
              "      gap: 12px;\n",
              "    }\n",
              "\n",
              "    .colab-df-convert {\n",
              "      background-color: #E8F0FE;\n",
              "      border: none;\n",
              "      border-radius: 50%;\n",
              "      cursor: pointer;\n",
              "      display: none;\n",
              "      fill: #1967D2;\n",
              "      height: 32px;\n",
              "      padding: 0 0 0 0;\n",
              "      width: 32px;\n",
              "    }\n",
              "\n",
              "    .colab-df-convert:hover {\n",
              "      background-color: #E2EBFA;\n",
              "      box-shadow: 0px 1px 2px rgba(60, 64, 67, 0.3), 0px 1px 3px 1px rgba(60, 64, 67, 0.15);\n",
              "      fill: #174EA6;\n",
              "    }\n",
              "\n",
              "    .colab-df-buttons div {\n",
              "      margin-bottom: 4px;\n",
              "    }\n",
              "\n",
              "    [theme=dark] .colab-df-convert {\n",
              "      background-color: #3B4455;\n",
              "      fill: #D2E3FC;\n",
              "    }\n",
              "\n",
              "    [theme=dark] .colab-df-convert:hover {\n",
              "      background-color: #434B5C;\n",
              "      box-shadow: 0px 1px 3px 1px rgba(0, 0, 0, 0.15);\n",
              "      filter: drop-shadow(0px 1px 2px rgba(0, 0, 0, 0.3));\n",
              "      fill: #FFFFFF;\n",
              "    }\n",
              "  </style>\n",
              "\n",
              "    <script>\n",
              "      const buttonEl =\n",
              "        document.querySelector('#df-9c0871d7-d1d5-4659-b056-c734163b1958 button.colab-df-convert');\n",
              "      buttonEl.style.display =\n",
              "        google.colab.kernel.accessAllowed ? 'block' : 'none';\n",
              "\n",
              "      async function convertToInteractive(key) {\n",
              "        const element = document.querySelector('#df-9c0871d7-d1d5-4659-b056-c734163b1958');\n",
              "        const dataTable =\n",
              "          await google.colab.kernel.invokeFunction('convertToInteractive',\n",
              "                                                    [key], {});\n",
              "        if (!dataTable) return;\n",
              "\n",
              "        const docLinkHtml = 'Like what you see? Visit the ' +\n",
              "          '<a target=\"_blank\" href=https://colab.research.google.com/notebooks/data_table.ipynb>data table notebook</a>'\n",
              "          + ' to learn more about interactive tables.';\n",
              "        element.innerHTML = '';\n",
              "        dataTable['output_type'] = 'display_data';\n",
              "        await google.colab.output.renderOutput(dataTable, element);\n",
              "        const docLink = document.createElement('div');\n",
              "        docLink.innerHTML = docLinkHtml;\n",
              "        element.appendChild(docLink);\n",
              "      }\n",
              "    </script>\n",
              "  </div>\n",
              "\n",
              "\n",
              "<div id=\"df-773e4b6f-1875-4148-9b9f-daf7e9dd0582\">\n",
              "  <button class=\"colab-df-quickchart\" onclick=\"quickchart('df-773e4b6f-1875-4148-9b9f-daf7e9dd0582')\"\n",
              "            title=\"Suggest charts\"\n",
              "            style=\"display:none;\">\n",
              "\n",
              "<svg xmlns=\"http://www.w3.org/2000/svg\" height=\"24px\"viewBox=\"0 0 24 24\"\n",
              "     width=\"24px\">\n",
              "    <g>\n",
              "        <path d=\"M19 3H5c-1.1 0-2 .9-2 2v14c0 1.1.9 2 2 2h14c1.1 0 2-.9 2-2V5c0-1.1-.9-2-2-2zM9 17H7v-7h2v7zm4 0h-2V7h2v10zm4 0h-2v-4h2v4z\"/>\n",
              "    </g>\n",
              "</svg>\n",
              "  </button>\n",
              "\n",
              "<style>\n",
              "  .colab-df-quickchart {\n",
              "      --bg-color: #E8F0FE;\n",
              "      --fill-color: #1967D2;\n",
              "      --hover-bg-color: #E2EBFA;\n",
              "      --hover-fill-color: #174EA6;\n",
              "      --disabled-fill-color: #AAA;\n",
              "      --disabled-bg-color: #DDD;\n",
              "  }\n",
              "\n",
              "  [theme=dark] .colab-df-quickchart {\n",
              "      --bg-color: #3B4455;\n",
              "      --fill-color: #D2E3FC;\n",
              "      --hover-bg-color: #434B5C;\n",
              "      --hover-fill-color: #FFFFFF;\n",
              "      --disabled-bg-color: #3B4455;\n",
              "      --disabled-fill-color: #666;\n",
              "  }\n",
              "\n",
              "  .colab-df-quickchart {\n",
              "    background-color: var(--bg-color);\n",
              "    border: none;\n",
              "    border-radius: 50%;\n",
              "    cursor: pointer;\n",
              "    display: none;\n",
              "    fill: var(--fill-color);\n",
              "    height: 32px;\n",
              "    padding: 0;\n",
              "    width: 32px;\n",
              "  }\n",
              "\n",
              "  .colab-df-quickchart:hover {\n",
              "    background-color: var(--hover-bg-color);\n",
              "    box-shadow: 0 1px 2px rgba(60, 64, 67, 0.3), 0 1px 3px 1px rgba(60, 64, 67, 0.15);\n",
              "    fill: var(--button-hover-fill-color);\n",
              "  }\n",
              "\n",
              "  .colab-df-quickchart-complete:disabled,\n",
              "  .colab-df-quickchart-complete:disabled:hover {\n",
              "    background-color: var(--disabled-bg-color);\n",
              "    fill: var(--disabled-fill-color);\n",
              "    box-shadow: none;\n",
              "  }\n",
              "\n",
              "  .colab-df-spinner {\n",
              "    border: 2px solid var(--fill-color);\n",
              "    border-color: transparent;\n",
              "    border-bottom-color: var(--fill-color);\n",
              "    animation:\n",
              "      spin 1s steps(1) infinite;\n",
              "  }\n",
              "\n",
              "  @keyframes spin {\n",
              "    0% {\n",
              "      border-color: transparent;\n",
              "      border-bottom-color: var(--fill-color);\n",
              "      border-left-color: var(--fill-color);\n",
              "    }\n",
              "    20% {\n",
              "      border-color: transparent;\n",
              "      border-left-color: var(--fill-color);\n",
              "      border-top-color: var(--fill-color);\n",
              "    }\n",
              "    30% {\n",
              "      border-color: transparent;\n",
              "      border-left-color: var(--fill-color);\n",
              "      border-top-color: var(--fill-color);\n",
              "      border-right-color: var(--fill-color);\n",
              "    }\n",
              "    40% {\n",
              "      border-color: transparent;\n",
              "      border-right-color: var(--fill-color);\n",
              "      border-top-color: var(--fill-color);\n",
              "    }\n",
              "    60% {\n",
              "      border-color: transparent;\n",
              "      border-right-color: var(--fill-color);\n",
              "    }\n",
              "    80% {\n",
              "      border-color: transparent;\n",
              "      border-right-color: var(--fill-color);\n",
              "      border-bottom-color: var(--fill-color);\n",
              "    }\n",
              "    90% {\n",
              "      border-color: transparent;\n",
              "      border-bottom-color: var(--fill-color);\n",
              "    }\n",
              "  }\n",
              "</style>\n",
              "\n",
              "  <script>\n",
              "    async function quickchart(key) {\n",
              "      const quickchartButtonEl =\n",
              "        document.querySelector('#' + key + ' button');\n",
              "      quickchartButtonEl.disabled = true;  // To prevent multiple clicks.\n",
              "      quickchartButtonEl.classList.add('colab-df-spinner');\n",
              "      try {\n",
              "        const charts = await google.colab.kernel.invokeFunction(\n",
              "            'suggestCharts', [key], {});\n",
              "      } catch (error) {\n",
              "        console.error('Error during call to suggestCharts:', error);\n",
              "      }\n",
              "      quickchartButtonEl.classList.remove('colab-df-spinner');\n",
              "      quickchartButtonEl.classList.add('colab-df-quickchart-complete');\n",
              "    }\n",
              "    (() => {\n",
              "      let quickchartButtonEl =\n",
              "        document.querySelector('#df-773e4b6f-1875-4148-9b9f-daf7e9dd0582 button');\n",
              "      quickchartButtonEl.style.display =\n",
              "        google.colab.kernel.accessAllowed ? 'block' : 'none';\n",
              "    })();\n",
              "  </script>\n",
              "</div>\n",
              "\n",
              "    </div>\n",
              "  </div>\n"
            ],
            "application/vnd.google.colaboratory.intrinsic+json": {
              "type": "dataframe",
              "variable_name": "df",
              "summary": "{\n  \"name\": \"df\",\n  \"rows\": 15249,\n  \"fields\": [\n    {\n      \"column\": \"indice_tiempo\",\n      \"properties\": {\n        \"dtype\": \"date\",\n        \"min\": \"2017-01-01 00:00:00\",\n        \"max\": \"2024-09-30 00:00:00\",\n        \"num_unique_values\": 2317,\n        \"samples\": [\n          \"2019-07-24 00:00:00\",\n          \"2018-07-04 00:00:00\",\n          \"2017-04-12 00:00:00\"\n        ],\n        \"semantic_type\": \"\",\n        \"description\": \"\"\n      }\n    },\n    {\n      \"column\": \"clasificacion_vuelo\",\n      \"properties\": {\n        \"dtype\": \"category\",\n        \"num_unique_values\": 2,\n        \"samples\": [\n          \"Internacional\",\n          \"Cabotaje\"\n        ],\n        \"semantic_type\": \"\",\n        \"description\": \"\"\n      }\n    },\n    {\n      \"column\": \"clase_vuelo\",\n      \"properties\": {\n        \"dtype\": \"category\",\n        \"num_unique_values\": 2,\n        \"samples\": [\n          \"No Regular\",\n          \"Regular\"\n        ],\n        \"semantic_type\": \"\",\n        \"description\": \"\"\n      }\n    },\n    {\n      \"column\": \"aerolinea\",\n      \"properties\": {\n        \"dtype\": \"category\",\n        \"num_unique_values\": 22,\n        \"samples\": [\n          \"Aerol\\u00edneas Argentinas\",\n          \"ASL Airlines France\"\n        ],\n        \"semantic_type\": \"\",\n        \"description\": \"\"\n      }\n    },\n    {\n      \"column\": \"origen_oaci\",\n      \"properties\": {\n        \"dtype\": \"category\",\n        \"num_unique_values\": 46,\n        \"samples\": [\n          \"SAZR\",\n          \"SATR\"\n        ],\n        \"semantic_type\": \"\",\n        \"description\": \"\"\n      }\n    },\n    {\n      \"column\": \"origen_aeropuerto\",\n      \"properties\": {\n        \"dtype\": \"category\",\n        \"num_unique_values\": 48,\n        \"samples\": [\n          \"Aeropuerto Int. Termas de R\\u00edo Hondo\",\n          \"Santa Rosa\"\n        ],\n        \"semantic_type\": \"\",\n        \"description\": \"\"\n      }\n    },\n    {\n      \"column\": \"origen_localidad\",\n      \"properties\": {\n        \"dtype\": \"category\",\n        \"num_unique_values\": 46,\n        \"samples\": [\n          \"Santa Rosa\",\n          \"Reconquista\"\n        ],\n        \"semantic_type\": \"\",\n        \"description\": \"\"\n      }\n    },\n    {\n      \"column\": \"origen_provincia\",\n      \"properties\": {\n        \"dtype\": \"category\",\n        \"num_unique_values\": 24,\n        \"samples\": [\n          \"San Juan\",\n          \"La Rioja\"\n        ],\n        \"semantic_type\": \"\",\n        \"description\": \"\"\n      }\n    },\n    {\n      \"column\": \"origen_pais\",\n      \"properties\": {\n        \"dtype\": \"category\",\n        \"num_unique_values\": 2,\n        \"samples\": [\n          \" Argentina\",\n          \"Argentina\"\n        ],\n        \"semantic_type\": \"\",\n        \"description\": \"\"\n      }\n    },\n    {\n      \"column\": \"origen_continente\",\n      \"properties\": {\n        \"dtype\": \"category\",\n        \"num_unique_values\": 2,\n        \"samples\": [\n          \"Argentina\",\n          \"Am\\u00e9rica del Sur\"\n        ],\n        \"semantic_type\": \"\",\n        \"description\": \"\"\n      }\n    },\n    {\n      \"column\": \"destino_oaci\",\n      \"properties\": {\n        \"dtype\": \"category\",\n        \"num_unique_values\": 50,\n        \"samples\": [\n          \"SAOU\",\n          \"SAVT\"\n        ],\n        \"semantic_type\": \"\",\n        \"description\": \"\"\n      }\n    },\n    {\n      \"column\": \"destino_aeropuerto\",\n      \"properties\": {\n        \"dtype\": \"category\",\n        \"num_unique_values\": 64,\n        \"samples\": [\n          \"SAWC\",\n          \"SAWH\"\n        ],\n        \"semantic_type\": \"\",\n        \"description\": \"\"\n      }\n    },\n    {\n      \"column\": \"destino_localidad\",\n      \"properties\": {\n        \"dtype\": \"category\",\n        \"num_unique_values\": 61,\n        \"samples\": [\n          \"Viedma\",\n          \"Mar del Plata\"\n        ],\n        \"semantic_type\": \"\",\n        \"description\": \"\"\n      }\n    },\n    {\n      \"column\": \"destino_provincia\",\n      \"properties\": {\n        \"dtype\": \"category\",\n        \"num_unique_values\": 37,\n        \"samples\": [\n          \"Entre R\\u00edos\",\n          \"San Juan\"\n        ],\n        \"semantic_type\": \"\",\n        \"description\": \"\"\n      }\n    },\n    {\n      \"column\": \"destino_pais\",\n      \"properties\": {\n        \"dtype\": \"category\",\n        \"num_unique_values\": 9,\n        \"samples\": [\n          \"C\\u00f3rdoba\",\n          \"Chile\"\n        ],\n        \"semantic_type\": \"\",\n        \"description\": \"\"\n      }\n    },\n    {\n      \"column\": \"destino_continente\",\n      \"properties\": {\n        \"dtype\": \"category\",\n        \"num_unique_values\": 5,\n        \"samples\": [\n          \"Brasil\",\n          \" Argentina\"\n        ],\n        \"semantic_type\": \"\",\n        \"description\": \"\"\n      }\n    },\n    {\n      \"column\": \"pasajeros\",\n      \"properties\": {\n        \"dtype\": \"category\",\n        \"num_unique_values\": 1003,\n        \"samples\": [\n          641,\n          344\n        ],\n        \"semantic_type\": \"\",\n        \"description\": \"\"\n      }\n    },\n    {\n      \"column\": \"asientos\",\n      \"properties\": {\n        \"dtype\": \"category\",\n        \"num_unique_values\": 758,\n        \"samples\": [\n          148,\n          64\n        ],\n        \"semantic_type\": \"\",\n        \"description\": \"\"\n      }\n    },\n    {\n      \"column\": \"vuelos\",\n      \"properties\": {\n        \"dtype\": \"number\",\n        \"std\": 82,\n        \"min\": 1,\n        \"max\": 1292,\n        \"num_unique_values\": 117,\n        \"samples\": [\n          30,\n          5\n        ],\n        \"semantic_type\": \"\",\n        \"description\": \"\"\n      }\n    },\n    {\n      \"column\": \"Unnamed: 19\",\n      \"properties\": {\n        \"dtype\": \"number\",\n        \"std\": 0.0,\n        \"min\": 1.0,\n        \"max\": 1.0,\n        \"num_unique_values\": 1,\n        \"samples\": [\n          1.0\n        ],\n        \"semantic_type\": \"\",\n        \"description\": \"\"\n      }\n    }\n  ]\n}"
            }
          },
          "metadata": {},
          "execution_count": 181
        }
      ],
      "source": [
        "df.info()\n",
        "df.describe()\n",
        "df.head()"
      ]
    },
    {
      "cell_type": "markdown",
      "metadata": {
        "id": "x44BFDO6aiob"
      },
      "source": [
        "Descripción de las Variables\n",
        "\n",
        "**indice_tiempo:** Fechas o periodos en los que se registraron los vuelos.\n",
        "\n",
        "**clasificacion_vuelo:** Categoría del vuelo (por ejemplo, cabotaje o internacional).\n",
        "\n",
        "**clase_vuelo:** Tipo de clase de los pasajeros (e.g., económica, ejecutiva).\n",
        "\n",
        "**aerolinea:** La aerolínea que opera el vuelo.\n",
        "\n",
        "**origen_oaci, destino_oaci:** Códigos de la OACI para los aeropuertos de origen y destino.\n",
        "\n",
        "**origen_localidad, destino_localidad:** Localidades de origen y destino.\n",
        "\n",
        "**pasajeros:** Número de pasajeros en cada vuelo.\n",
        "\n",
        "**asientos:** Número de asientos disponibles.\n",
        "\n",
        "**vuelos:** Número de vuelos operados."
      ]
    },
    {
      "cell_type": "code",
      "execution_count": 182,
      "metadata": {
        "colab": {
          "base_uri": "https://localhost:8080/"
        },
        "id": "x49a-hwzB0O8",
        "outputId": "c85dbbe4-026c-44d4-e994-6cbb72f42f72"
      },
      "outputs": [
        {
          "output_type": "stream",
          "name": "stdout",
          "text": [
            "indice_tiempo              0\n",
            "clasificacion_vuelo        0\n",
            "clase_vuelo                0\n",
            "aerolinea                  0\n",
            "origen_oaci                1\n",
            "origen_aeropuerto          0\n",
            "origen_localidad           0\n",
            "origen_provincia           0\n",
            "origen_pais                0\n",
            "origen_continente          0\n",
            "destino_oaci               0\n",
            "destino_aeropuerto         0\n",
            "destino_localidad          0\n",
            "destino_provincia          0\n",
            "destino_pais              27\n",
            "destino_continente         0\n",
            "pasajeros                  0\n",
            "asientos                   0\n",
            "vuelos                     0\n",
            "Unnamed: 19            15237\n",
            "dtype: int64\n"
          ]
        }
      ],
      "source": [
        "print(df.isnull().sum())"
      ]
    },
    {
      "cell_type": "code",
      "execution_count": 183,
      "metadata": {
        "id": "eXF0IricB7I4"
      },
      "outputs": [],
      "source": [
        "numeric_cols = df.select_dtypes(include=np.number).columns\n",
        "df[numeric_cols] = df[numeric_cols].fillna(df[numeric_cols].mean())"
      ]
    },
    {
      "cell_type": "code",
      "execution_count": 184,
      "metadata": {
        "id": "wmbfIvE9CAIE"
      },
      "outputs": [],
      "source": [
        "X = df[['clasificacion_vuelo', 'clase_vuelo', 'aerolinea', 'origen_pais', 'origen_continente', 'destino_pais', 'destino_continente', 'asientos', 'vuelos']]\n",
        "\n",
        "y = df['vuelos']"
      ]
    },
    {
      "cell_type": "code",
      "execution_count": 185,
      "metadata": {
        "id": "-7kYQZisCCc3"
      },
      "outputs": [],
      "source": [
        "X_train, X_test, y_train, y_test = train_test_split(X, y, test_size=0.2, random_state=42)"
      ]
    },
    {
      "cell_type": "code",
      "execution_count": 186,
      "metadata": {
        "id": "i89tW4zmCDAC"
      },
      "outputs": [],
      "source": [
        "encoder = OneHotEncoder(sparse_output=False, handle_unknown='ignore')\n",
        "X_train_encoded = encoder.fit_transform(X_train[['clasificacion_vuelo', 'clase_vuelo', 'aerolinea', 'origen_pais', 'origen_continente', 'destino_pais', 'destino_continente']])\n",
        "X_test_encoded = encoder.transform(X_test[['clasificacion_vuelo', 'clase_vuelo', 'aerolinea', 'origen_pais', 'origen_continente', 'destino_pais', 'destino_continente']])\n",
        "\n",
        "\n",
        "X_train_final = pd.concat(\n",
        "    [pd.DataFrame(X_train_encoded), X_train[['asientos', 'vuelos']].reset_index(drop=True)], axis=1\n",
        ")\n",
        "X_test_final = pd.concat(\n",
        "    [pd.DataFrame(X_test_encoded), X_test[['asientos', 'vuelos']].reset_index(drop=True)], axis=1\n",
        ")"
      ]
    },
    {
      "cell_type": "code",
      "source": [
        "categorical_features = ['clasificacion_vuelo', 'clase_vuelo', 'aerolinea', 'origen_pais', 'origen_continente', 'destino_pais', 'destino_continente']\n",
        "numerical_features = ['asientos', 'vuelos']"
      ],
      "metadata": {
        "id": "fvxnO2WM8hBU"
      },
      "execution_count": 187,
      "outputs": []
    },
    {
      "cell_type": "code",
      "source": [
        "preprocessor = ColumnTransformer(\n",
        "    transformers=[\n",
        "        ('num', StandardScaler(), numerical_features),\n",
        "        ('cat', OneHotEncoder(sparse_output=False, handle_unknown='ignore'), categorical_features)])"
      ],
      "metadata": {
        "id": "jGn50tzu8iuq"
      },
      "execution_count": 188,
      "outputs": []
    },
    {
      "cell_type": "code",
      "source": [
        "X_train = X_train.fillna(method='ffill')\n",
        "X_test = X_test.fillna(method='ffill')"
      ],
      "metadata": {
        "colab": {
          "base_uri": "https://localhost:8080/"
        },
        "id": "MG1H5xho_EX9",
        "outputId": "1c52bf05-109d-4e2a-b988-e1f1deca77d3"
      },
      "execution_count": 189,
      "outputs": [
        {
          "output_type": "stream",
          "name": "stderr",
          "text": [
            "<ipython-input-189-9a001626ccdd>:1: FutureWarning: DataFrame.fillna with 'method' is deprecated and will raise in a future version. Use obj.ffill() or obj.bfill() instead.\n",
            "  X_train = X_train.fillna(method='ffill')\n",
            "<ipython-input-189-9a001626ccdd>:2: FutureWarning: DataFrame.fillna with 'method' is deprecated and will raise in a future version. Use obj.ffill() or obj.bfill() instead.\n",
            "  X_test = X_test.fillna(method='ffill')\n"
          ]
        }
      ]
    },
    {
      "cell_type": "code",
      "source": [
        "num_cols = X_train.select_dtypes(include=['float64', 'int64']).columns\n",
        "cat_cols = X_train.select_dtypes(include=['object', 'category']).columns\n",
        "\n",
        "print(\"Columnas numéricas:\", num_cols)\n",
        "print(\"Columnas categóricas:\", cat_cols)"
      ],
      "metadata": {
        "colab": {
          "base_uri": "https://localhost:8080/"
        },
        "id": "XIaeyJ4z_ti0",
        "outputId": "ecb245fd-da4c-4abc-aad5-1db3fab18645"
      },
      "execution_count": 190,
      "outputs": [
        {
          "output_type": "stream",
          "name": "stdout",
          "text": [
            "Columnas numéricas: Index(['vuelos'], dtype='object')\n",
            "Columnas categóricas: Index(['clasificacion_vuelo', 'clase_vuelo', 'aerolinea', 'origen_pais',\n",
            "       'origen_continente', 'destino_pais', 'destino_continente', 'asientos'],\n",
            "      dtype='object')\n"
          ]
        }
      ]
    },
    {
      "cell_type": "code",
      "source": [
        "for col in categorical_features:\n",
        "  print(f\"Column: {col}, Unique types: {df[col].apply(type).unique()}\")"
      ],
      "metadata": {
        "colab": {
          "base_uri": "https://localhost:8080/"
        },
        "id": "REaVQZwMAUoZ",
        "outputId": "a5483a7d-0dda-4fff-f61b-1a6b111690fa"
      },
      "execution_count": 191,
      "outputs": [
        {
          "output_type": "stream",
          "name": "stdout",
          "text": [
            "Column: clasificacion_vuelo, Unique types: [<class 'str'>]\n",
            "Column: clase_vuelo, Unique types: [<class 'str'>]\n",
            "Column: aerolinea, Unique types: [<class 'str'>]\n",
            "Column: origen_pais, Unique types: [<class 'str'>]\n",
            "Column: origen_continente, Unique types: [<class 'str'>]\n",
            "Column: destino_pais, Unique types: [<class 'str'> <class 'float'>]\n",
            "Column: destino_continente, Unique types: [<class 'str'>]\n"
          ]
        }
      ]
    },
    {
      "cell_type": "code",
      "source": [
        "num_transformer = StandardScaler()\n",
        "cat_transformer = OneHotEncoder(handle_unknown='ignore')\n",
        "\n",
        "preprocessor = ColumnTransformer(\n",
        "    transformers=[\n",
        "        ('num', num_transformer, num_cols),\n",
        "        ('cat', cat_transformer, cat_cols)])"
      ],
      "metadata": {
        "id": "yFaOAinWALSL"
      },
      "execution_count": 192,
      "outputs": []
    },
    {
      "cell_type": "code",
      "execution_count": 193,
      "metadata": {
        "id": "27xMPewyCG9n"
      },
      "outputs": [],
      "source": [
        "for col in categorical_features:\n",
        "  X_train[col] = X_train[col].astype(str)\n",
        "  X_test[col] = X_test[col].astype(str)"
      ]
    },
    {
      "cell_type": "code",
      "source": [
        "for col in cat_cols:\n",
        "    print(f\"Columna '{col}': {X_train[col].unique()}\")"
      ],
      "metadata": {
        "colab": {
          "base_uri": "https://localhost:8080/"
        },
        "id": "xU7gNbUnBOjD",
        "outputId": "746179ed-9cee-4708-b133-3f5fb0052638"
      },
      "execution_count": 194,
      "outputs": [
        {
          "output_type": "stream",
          "name": "stdout",
          "text": [
            "Columna 'clasificacion_vuelo': ['Cabotaje' 'Internacional']\n",
            "Columna 'clase_vuelo': ['Regular' 'No Regular']\n",
            "Columna 'aerolinea': ['Flybondi' 'Aerolíneas Argentinas' 'Andes Líneas Aéreas'\n",
            " 'JetSMART Airlines' 'Flyest' 'LADE - Líneas Aéreas Del Estado' 'LATAM'\n",
            " 'Avianca' 'United Airlines' 'Norwegian Air Shuttle'\n",
            " 'Boliviana de Aviación' 'Aerovías DAP' 'ASL Airlines France' 'KLM'\n",
            " 'American Airlines' 'LASA' 'Lufthansa' 'Copa Airlines' 'Delta Air Lines'\n",
            " 'Gol Transportes Aéreos' 'Aeroméxico' 'Air Europa']\n",
            "Columna 'origen_pais': ['Argentina' ' Argentina']\n",
            "Columna 'origen_continente': ['América del Sur' 'Argentina']\n",
            "Columna 'destino_pais': ['Argentina' ' Argentina' 'Buenos Aires' 'Ciudad Autónoma de Buenos Aires'\n",
            " 'Santa Cruz' 'Chile' 'Córdoba' 'Chubut' 'Tierra del Fuego']\n",
            "Columna 'destino_continente': ['América del Sur' 'Argentina' 'Chile' ' Argentina' 'Brasil']\n",
            "Columna 'asientos': [189 192 144 48 298 96 834 165 266 351 16 760 170 25 372 186 473 4 5 378\n",
            " 146 141 128 680 340 1275 19 362 149 279 283 586 95 612 93 573 162 521 480\n",
            " 181 850 436 20 314 10 682 708 90 85 662 83 224 211 221 798 233 563 307\n",
            " 926 208 64 465 564 84 468 504 416 288 168 650 702 809 240 72 1020 21 458\n",
            " 284 567 554 2 290 218 444 137 1168 510 336 38 154 1 924 69 135 420 222\n",
            " 309 532 33 430 136 352 50 373 776 30 808 86 259 148 1064 601 252 37 245\n",
            " 394 248 60 945 161 127 255 1286 110 1106 295 857 147 231 226 852 1218 426\n",
            " 185 695 17 840 36 447 724 562 3 1318 490 197 167 558 851 617 935 337 861\n",
            " 207 274 227 176 765 155 250 342 457 432 57 130 166 256 903 278 325 9 150\n",
            " 672 842 1700 844 348 909 811 34 65 1011 431 575 24 403 568 56 174 160 301\n",
            " 399 408 239 172 1251 388 320 76 978 756 425 583 152 566 904 125 143 11\n",
            " 987 92 624 87 606 6 1007 817 335 1349 317 968 368 819 1095 345 179 1042\n",
            " 775 1360 321 820 132 254 163 665 169 216 13 71 1008 8 330 1340 1010 292\n",
            " 341 151 1361 509 88 323 287 410 522 281 477 413 371 1276 173 180 1138 74\n",
            " 602 133 129 531 124 118 883 411 113 138 557 123 27 209 701 188 1308 595\n",
            " 506 1105 100 327 329 605 448 145 153 384 108 442 1015 660 331 422 538\n",
            " 1127 675 343 1297 464 1072 107 1160 234 412 946 894 990 772 131 157 51\n",
            " 332 40 346 68 70 484 1086 142 305 608 1170 766 435 600 109 303 139 723\n",
            " 658 782 52 369 77 12 734 164 1031 887 112 931 15 749 505 684 277 1038\n",
            " 1079 419 389 547 361 318 1541 1153 80 1054 491 260 159 383 219 235 350\n",
            " 1016 1019 1098 377 140 461 1230 271 1009 121 574 212 395 875 764 265 920\n",
            " 1403 53 393 948 1048 304 1190 316 319 261 26 450 500 743 670 116 654 713\n",
            " 1509 45 14 594 628 338 213 293 103 81 178 79 1260 1133 728 499 272 585\n",
            " 'América del Sur' 634 512 201 979 649 638 405 7 1240 312 296 1148 333 507\n",
            " 488 571 1083 1116 23 270 829 534 73 642 134 835 404 339 114 282 1445 182\n",
            " 513 380 294 215 251 273 1615 205 486 102 1205 535 878 184 674 429 244 580\n",
            " 983 392 232 62 542 177 592 643 1234 527 647 1530 627 588 691 681 1352 900\n",
            " 1371 75 788 1090 1285 171 1096 495 1188 651 1018 237 98 1238 158 1249 895\n",
            " 82 308 913 1101 1223 156 615 63 872 28 202 525 1094 299 1059 936 1903 267\n",
            " 1032 1053 664 686 771 569 607 1039 1012 1382 618 676 711 791 1212 286 229\n",
            " 683 623 175 122 685 390 596 370 469 183 735 119 476 1176 1128 291 739 998\n",
            " 616 29 1196 508 269 669 479 285 59 1362 551 836 494 326 1118 214 451 916\n",
            " 1327 517 199 1070 1497 609 228 553 1282 687 322 1201 217 247 593 1392\n",
            " 1068 1346 1112 89 748 813 91 697 1268 104 610 870 1013 1092 401 1024 115\n",
            " 41 763 66 1000 466 1414 579 111 958 206 1027 22 831 497 275 276 528 1488\n",
            " 543 440 106 455 516 767 806 391 195 1345 220 1254 591 439 830 117 1294\n",
            " 223 367 126 18 692 1179 795 364 58 1606 846 839 187 732 744 742 1144 989\n",
            " 787 105 300 39 663 1002 1281 1648 1429 1208 471 626 402 1214 696 366 421\n",
            " 874 264 434 32 1667 61 1005 1270 249 78 847 1498 761 437 657 942 1764\n",
            " 1350 1582 1537 849 441 1041 1338 1115 714 511 44 67 810 754 423]\n"
          ]
        }
      ]
    },
    {
      "cell_type": "code",
      "source": [
        "for col in cat_cols:\n",
        "    X_train[col] = X_train[col].astype(str)\n",
        "    X_test[col] = X_test[col].astype(str)"
      ],
      "metadata": {
        "id": "qXs9kfnlBREJ"
      },
      "execution_count": 195,
      "outputs": []
    },
    {
      "cell_type": "code",
      "source": [
        "X_train_transformed = preprocessor.fit_transform(X_train)\n",
        "X_test_transformed = preprocessor.transform(X_test)"
      ],
      "metadata": {
        "id": "VugHgse1AwBy"
      },
      "execution_count": 196,
      "outputs": []
    },
    {
      "cell_type": "code",
      "source": [
        "X_train[cat_cols] = X_train[cat_cols].fillna(\"missing\")\n",
        "X_test[cat_cols] = X_test[cat_cols].fillna(\"missing\")"
      ],
      "metadata": {
        "id": "shCsllpZBhfY"
      },
      "execution_count": 197,
      "outputs": []
    },
    {
      "cell_type": "code",
      "source": [
        "modelo.fit(X_train_transformed, y_train)"
      ],
      "metadata": {
        "colab": {
          "base_uri": "https://localhost:8080/",
          "height": 80
        },
        "id": "4q-R38_0BoX4",
        "outputId": "40c8fb79-6a3b-49bf-f732-f6febea62b2c"
      },
      "execution_count": 198,
      "outputs": [
        {
          "output_type": "execute_result",
          "data": {
            "text/plain": [
              "KNeighborsClassifier(n_neighbors=10)"
            ],
            "text/html": [
              "<style>#sk-container-id-2 {\n",
              "  /* Definition of color scheme common for light and dark mode */\n",
              "  --sklearn-color-text: #000;\n",
              "  --sklearn-color-text-muted: #666;\n",
              "  --sklearn-color-line: gray;\n",
              "  /* Definition of color scheme for unfitted estimators */\n",
              "  --sklearn-color-unfitted-level-0: #fff5e6;\n",
              "  --sklearn-color-unfitted-level-1: #f6e4d2;\n",
              "  --sklearn-color-unfitted-level-2: #ffe0b3;\n",
              "  --sklearn-color-unfitted-level-3: chocolate;\n",
              "  /* Definition of color scheme for fitted estimators */\n",
              "  --sklearn-color-fitted-level-0: #f0f8ff;\n",
              "  --sklearn-color-fitted-level-1: #d4ebff;\n",
              "  --sklearn-color-fitted-level-2: #b3dbfd;\n",
              "  --sklearn-color-fitted-level-3: cornflowerblue;\n",
              "\n",
              "  /* Specific color for light theme */\n",
              "  --sklearn-color-text-on-default-background: var(--sg-text-color, var(--theme-code-foreground, var(--jp-content-font-color1, black)));\n",
              "  --sklearn-color-background: var(--sg-background-color, var(--theme-background, var(--jp-layout-color0, white)));\n",
              "  --sklearn-color-border-box: var(--sg-text-color, var(--theme-code-foreground, var(--jp-content-font-color1, black)));\n",
              "  --sklearn-color-icon: #696969;\n",
              "\n",
              "  @media (prefers-color-scheme: dark) {\n",
              "    /* Redefinition of color scheme for dark theme */\n",
              "    --sklearn-color-text-on-default-background: var(--sg-text-color, var(--theme-code-foreground, var(--jp-content-font-color1, white)));\n",
              "    --sklearn-color-background: var(--sg-background-color, var(--theme-background, var(--jp-layout-color0, #111)));\n",
              "    --sklearn-color-border-box: var(--sg-text-color, var(--theme-code-foreground, var(--jp-content-font-color1, white)));\n",
              "    --sklearn-color-icon: #878787;\n",
              "  }\n",
              "}\n",
              "\n",
              "#sk-container-id-2 {\n",
              "  color: var(--sklearn-color-text);\n",
              "}\n",
              "\n",
              "#sk-container-id-2 pre {\n",
              "  padding: 0;\n",
              "}\n",
              "\n",
              "#sk-container-id-2 input.sk-hidden--visually {\n",
              "  border: 0;\n",
              "  clip: rect(1px 1px 1px 1px);\n",
              "  clip: rect(1px, 1px, 1px, 1px);\n",
              "  height: 1px;\n",
              "  margin: -1px;\n",
              "  overflow: hidden;\n",
              "  padding: 0;\n",
              "  position: absolute;\n",
              "  width: 1px;\n",
              "}\n",
              "\n",
              "#sk-container-id-2 div.sk-dashed-wrapped {\n",
              "  border: 1px dashed var(--sklearn-color-line);\n",
              "  margin: 0 0.4em 0.5em 0.4em;\n",
              "  box-sizing: border-box;\n",
              "  padding-bottom: 0.4em;\n",
              "  background-color: var(--sklearn-color-background);\n",
              "}\n",
              "\n",
              "#sk-container-id-2 div.sk-container {\n",
              "  /* jupyter's `normalize.less` sets `[hidden] { display: none; }`\n",
              "     but bootstrap.min.css set `[hidden] { display: none !important; }`\n",
              "     so we also need the `!important` here to be able to override the\n",
              "     default hidden behavior on the sphinx rendered scikit-learn.org.\n",
              "     See: https://github.com/scikit-learn/scikit-learn/issues/21755 */\n",
              "  display: inline-block !important;\n",
              "  position: relative;\n",
              "}\n",
              "\n",
              "#sk-container-id-2 div.sk-text-repr-fallback {\n",
              "  display: none;\n",
              "}\n",
              "\n",
              "div.sk-parallel-item,\n",
              "div.sk-serial,\n",
              "div.sk-item {\n",
              "  /* draw centered vertical line to link estimators */\n",
              "  background-image: linear-gradient(var(--sklearn-color-text-on-default-background), var(--sklearn-color-text-on-default-background));\n",
              "  background-size: 2px 100%;\n",
              "  background-repeat: no-repeat;\n",
              "  background-position: center center;\n",
              "}\n",
              "\n",
              "/* Parallel-specific style estimator block */\n",
              "\n",
              "#sk-container-id-2 div.sk-parallel-item::after {\n",
              "  content: \"\";\n",
              "  width: 100%;\n",
              "  border-bottom: 2px solid var(--sklearn-color-text-on-default-background);\n",
              "  flex-grow: 1;\n",
              "}\n",
              "\n",
              "#sk-container-id-2 div.sk-parallel {\n",
              "  display: flex;\n",
              "  align-items: stretch;\n",
              "  justify-content: center;\n",
              "  background-color: var(--sklearn-color-background);\n",
              "  position: relative;\n",
              "}\n",
              "\n",
              "#sk-container-id-2 div.sk-parallel-item {\n",
              "  display: flex;\n",
              "  flex-direction: column;\n",
              "}\n",
              "\n",
              "#sk-container-id-2 div.sk-parallel-item:first-child::after {\n",
              "  align-self: flex-end;\n",
              "  width: 50%;\n",
              "}\n",
              "\n",
              "#sk-container-id-2 div.sk-parallel-item:last-child::after {\n",
              "  align-self: flex-start;\n",
              "  width: 50%;\n",
              "}\n",
              "\n",
              "#sk-container-id-2 div.sk-parallel-item:only-child::after {\n",
              "  width: 0;\n",
              "}\n",
              "\n",
              "/* Serial-specific style estimator block */\n",
              "\n",
              "#sk-container-id-2 div.sk-serial {\n",
              "  display: flex;\n",
              "  flex-direction: column;\n",
              "  align-items: center;\n",
              "  background-color: var(--sklearn-color-background);\n",
              "  padding-right: 1em;\n",
              "  padding-left: 1em;\n",
              "}\n",
              "\n",
              "\n",
              "/* Toggleable style: style used for estimator/Pipeline/ColumnTransformer box that is\n",
              "clickable and can be expanded/collapsed.\n",
              "- Pipeline and ColumnTransformer use this feature and define the default style\n",
              "- Estimators will overwrite some part of the style using the `sk-estimator` class\n",
              "*/\n",
              "\n",
              "/* Pipeline and ColumnTransformer style (default) */\n",
              "\n",
              "#sk-container-id-2 div.sk-toggleable {\n",
              "  /* Default theme specific background. It is overwritten whether we have a\n",
              "  specific estimator or a Pipeline/ColumnTransformer */\n",
              "  background-color: var(--sklearn-color-background);\n",
              "}\n",
              "\n",
              "/* Toggleable label */\n",
              "#sk-container-id-2 label.sk-toggleable__label {\n",
              "  cursor: pointer;\n",
              "  display: flex;\n",
              "  width: 100%;\n",
              "  margin-bottom: 0;\n",
              "  padding: 0.5em;\n",
              "  box-sizing: border-box;\n",
              "  text-align: center;\n",
              "  align-items: start;\n",
              "  justify-content: space-between;\n",
              "  gap: 0.5em;\n",
              "}\n",
              "\n",
              "#sk-container-id-2 label.sk-toggleable__label .caption {\n",
              "  font-size: 0.6rem;\n",
              "  font-weight: lighter;\n",
              "  color: var(--sklearn-color-text-muted);\n",
              "}\n",
              "\n",
              "#sk-container-id-2 label.sk-toggleable__label-arrow:before {\n",
              "  /* Arrow on the left of the label */\n",
              "  content: \"▸\";\n",
              "  float: left;\n",
              "  margin-right: 0.25em;\n",
              "  color: var(--sklearn-color-icon);\n",
              "}\n",
              "\n",
              "#sk-container-id-2 label.sk-toggleable__label-arrow:hover:before {\n",
              "  color: var(--sklearn-color-text);\n",
              "}\n",
              "\n",
              "/* Toggleable content - dropdown */\n",
              "\n",
              "#sk-container-id-2 div.sk-toggleable__content {\n",
              "  max-height: 0;\n",
              "  max-width: 0;\n",
              "  overflow: hidden;\n",
              "  text-align: left;\n",
              "  /* unfitted */\n",
              "  background-color: var(--sklearn-color-unfitted-level-0);\n",
              "}\n",
              "\n",
              "#sk-container-id-2 div.sk-toggleable__content.fitted {\n",
              "  /* fitted */\n",
              "  background-color: var(--sklearn-color-fitted-level-0);\n",
              "}\n",
              "\n",
              "#sk-container-id-2 div.sk-toggleable__content pre {\n",
              "  margin: 0.2em;\n",
              "  border-radius: 0.25em;\n",
              "  color: var(--sklearn-color-text);\n",
              "  /* unfitted */\n",
              "  background-color: var(--sklearn-color-unfitted-level-0);\n",
              "}\n",
              "\n",
              "#sk-container-id-2 div.sk-toggleable__content.fitted pre {\n",
              "  /* unfitted */\n",
              "  background-color: var(--sklearn-color-fitted-level-0);\n",
              "}\n",
              "\n",
              "#sk-container-id-2 input.sk-toggleable__control:checked~div.sk-toggleable__content {\n",
              "  /* Expand drop-down */\n",
              "  max-height: 200px;\n",
              "  max-width: 100%;\n",
              "  overflow: auto;\n",
              "}\n",
              "\n",
              "#sk-container-id-2 input.sk-toggleable__control:checked~label.sk-toggleable__label-arrow:before {\n",
              "  content: \"▾\";\n",
              "}\n",
              "\n",
              "/* Pipeline/ColumnTransformer-specific style */\n",
              "\n",
              "#sk-container-id-2 div.sk-label input.sk-toggleable__control:checked~label.sk-toggleable__label {\n",
              "  color: var(--sklearn-color-text);\n",
              "  background-color: var(--sklearn-color-unfitted-level-2);\n",
              "}\n",
              "\n",
              "#sk-container-id-2 div.sk-label.fitted input.sk-toggleable__control:checked~label.sk-toggleable__label {\n",
              "  background-color: var(--sklearn-color-fitted-level-2);\n",
              "}\n",
              "\n",
              "/* Estimator-specific style */\n",
              "\n",
              "/* Colorize estimator box */\n",
              "#sk-container-id-2 div.sk-estimator input.sk-toggleable__control:checked~label.sk-toggleable__label {\n",
              "  /* unfitted */\n",
              "  background-color: var(--sklearn-color-unfitted-level-2);\n",
              "}\n",
              "\n",
              "#sk-container-id-2 div.sk-estimator.fitted input.sk-toggleable__control:checked~label.sk-toggleable__label {\n",
              "  /* fitted */\n",
              "  background-color: var(--sklearn-color-fitted-level-2);\n",
              "}\n",
              "\n",
              "#sk-container-id-2 div.sk-label label.sk-toggleable__label,\n",
              "#sk-container-id-2 div.sk-label label {\n",
              "  /* The background is the default theme color */\n",
              "  color: var(--sklearn-color-text-on-default-background);\n",
              "}\n",
              "\n",
              "/* On hover, darken the color of the background */\n",
              "#sk-container-id-2 div.sk-label:hover label.sk-toggleable__label {\n",
              "  color: var(--sklearn-color-text);\n",
              "  background-color: var(--sklearn-color-unfitted-level-2);\n",
              "}\n",
              "\n",
              "/* Label box, darken color on hover, fitted */\n",
              "#sk-container-id-2 div.sk-label.fitted:hover label.sk-toggleable__label.fitted {\n",
              "  color: var(--sklearn-color-text);\n",
              "  background-color: var(--sklearn-color-fitted-level-2);\n",
              "}\n",
              "\n",
              "/* Estimator label */\n",
              "\n",
              "#sk-container-id-2 div.sk-label label {\n",
              "  font-family: monospace;\n",
              "  font-weight: bold;\n",
              "  display: inline-block;\n",
              "  line-height: 1.2em;\n",
              "}\n",
              "\n",
              "#sk-container-id-2 div.sk-label-container {\n",
              "  text-align: center;\n",
              "}\n",
              "\n",
              "/* Estimator-specific */\n",
              "#sk-container-id-2 div.sk-estimator {\n",
              "  font-family: monospace;\n",
              "  border: 1px dotted var(--sklearn-color-border-box);\n",
              "  border-radius: 0.25em;\n",
              "  box-sizing: border-box;\n",
              "  margin-bottom: 0.5em;\n",
              "  /* unfitted */\n",
              "  background-color: var(--sklearn-color-unfitted-level-0);\n",
              "}\n",
              "\n",
              "#sk-container-id-2 div.sk-estimator.fitted {\n",
              "  /* fitted */\n",
              "  background-color: var(--sklearn-color-fitted-level-0);\n",
              "}\n",
              "\n",
              "/* on hover */\n",
              "#sk-container-id-2 div.sk-estimator:hover {\n",
              "  /* unfitted */\n",
              "  background-color: var(--sklearn-color-unfitted-level-2);\n",
              "}\n",
              "\n",
              "#sk-container-id-2 div.sk-estimator.fitted:hover {\n",
              "  /* fitted */\n",
              "  background-color: var(--sklearn-color-fitted-level-2);\n",
              "}\n",
              "\n",
              "/* Specification for estimator info (e.g. \"i\" and \"?\") */\n",
              "\n",
              "/* Common style for \"i\" and \"?\" */\n",
              "\n",
              ".sk-estimator-doc-link,\n",
              "a:link.sk-estimator-doc-link,\n",
              "a:visited.sk-estimator-doc-link {\n",
              "  float: right;\n",
              "  font-size: smaller;\n",
              "  line-height: 1em;\n",
              "  font-family: monospace;\n",
              "  background-color: var(--sklearn-color-background);\n",
              "  border-radius: 1em;\n",
              "  height: 1em;\n",
              "  width: 1em;\n",
              "  text-decoration: none !important;\n",
              "  margin-left: 0.5em;\n",
              "  text-align: center;\n",
              "  /* unfitted */\n",
              "  border: var(--sklearn-color-unfitted-level-1) 1pt solid;\n",
              "  color: var(--sklearn-color-unfitted-level-1);\n",
              "}\n",
              "\n",
              ".sk-estimator-doc-link.fitted,\n",
              "a:link.sk-estimator-doc-link.fitted,\n",
              "a:visited.sk-estimator-doc-link.fitted {\n",
              "  /* fitted */\n",
              "  border: var(--sklearn-color-fitted-level-1) 1pt solid;\n",
              "  color: var(--sklearn-color-fitted-level-1);\n",
              "}\n",
              "\n",
              "/* On hover */\n",
              "div.sk-estimator:hover .sk-estimator-doc-link:hover,\n",
              ".sk-estimator-doc-link:hover,\n",
              "div.sk-label-container:hover .sk-estimator-doc-link:hover,\n",
              ".sk-estimator-doc-link:hover {\n",
              "  /* unfitted */\n",
              "  background-color: var(--sklearn-color-unfitted-level-3);\n",
              "  color: var(--sklearn-color-background);\n",
              "  text-decoration: none;\n",
              "}\n",
              "\n",
              "div.sk-estimator.fitted:hover .sk-estimator-doc-link.fitted:hover,\n",
              ".sk-estimator-doc-link.fitted:hover,\n",
              "div.sk-label-container:hover .sk-estimator-doc-link.fitted:hover,\n",
              ".sk-estimator-doc-link.fitted:hover {\n",
              "  /* fitted */\n",
              "  background-color: var(--sklearn-color-fitted-level-3);\n",
              "  color: var(--sklearn-color-background);\n",
              "  text-decoration: none;\n",
              "}\n",
              "\n",
              "/* Span, style for the box shown on hovering the info icon */\n",
              ".sk-estimator-doc-link span {\n",
              "  display: none;\n",
              "  z-index: 9999;\n",
              "  position: relative;\n",
              "  font-weight: normal;\n",
              "  right: .2ex;\n",
              "  padding: .5ex;\n",
              "  margin: .5ex;\n",
              "  width: min-content;\n",
              "  min-width: 20ex;\n",
              "  max-width: 50ex;\n",
              "  color: var(--sklearn-color-text);\n",
              "  box-shadow: 2pt 2pt 4pt #999;\n",
              "  /* unfitted */\n",
              "  background: var(--sklearn-color-unfitted-level-0);\n",
              "  border: .5pt solid var(--sklearn-color-unfitted-level-3);\n",
              "}\n",
              "\n",
              ".sk-estimator-doc-link.fitted span {\n",
              "  /* fitted */\n",
              "  background: var(--sklearn-color-fitted-level-0);\n",
              "  border: var(--sklearn-color-fitted-level-3);\n",
              "}\n",
              "\n",
              ".sk-estimator-doc-link:hover span {\n",
              "  display: block;\n",
              "}\n",
              "\n",
              "/* \"?\"-specific style due to the `<a>` HTML tag */\n",
              "\n",
              "#sk-container-id-2 a.estimator_doc_link {\n",
              "  float: right;\n",
              "  font-size: 1rem;\n",
              "  line-height: 1em;\n",
              "  font-family: monospace;\n",
              "  background-color: var(--sklearn-color-background);\n",
              "  border-radius: 1rem;\n",
              "  height: 1rem;\n",
              "  width: 1rem;\n",
              "  text-decoration: none;\n",
              "  /* unfitted */\n",
              "  color: var(--sklearn-color-unfitted-level-1);\n",
              "  border: var(--sklearn-color-unfitted-level-1) 1pt solid;\n",
              "}\n",
              "\n",
              "#sk-container-id-2 a.estimator_doc_link.fitted {\n",
              "  /* fitted */\n",
              "  border: var(--sklearn-color-fitted-level-1) 1pt solid;\n",
              "  color: var(--sklearn-color-fitted-level-1);\n",
              "}\n",
              "\n",
              "/* On hover */\n",
              "#sk-container-id-2 a.estimator_doc_link:hover {\n",
              "  /* unfitted */\n",
              "  background-color: var(--sklearn-color-unfitted-level-3);\n",
              "  color: var(--sklearn-color-background);\n",
              "  text-decoration: none;\n",
              "}\n",
              "\n",
              "#sk-container-id-2 a.estimator_doc_link.fitted:hover {\n",
              "  /* fitted */\n",
              "  background-color: var(--sklearn-color-fitted-level-3);\n",
              "}\n",
              "</style><div id=\"sk-container-id-2\" class=\"sk-top-container\"><div class=\"sk-text-repr-fallback\"><pre>KNeighborsClassifier(n_neighbors=10)</pre><b>In a Jupyter environment, please rerun this cell to show the HTML representation or trust the notebook. <br />On GitHub, the HTML representation is unable to render, please try loading this page with nbviewer.org.</b></div><div class=\"sk-container\" hidden><div class=\"sk-item\"><div class=\"sk-estimator fitted sk-toggleable\"><input class=\"sk-toggleable__control sk-hidden--visually\" id=\"sk-estimator-id-2\" type=\"checkbox\" checked><label for=\"sk-estimator-id-2\" class=\"sk-toggleable__label fitted sk-toggleable__label-arrow\"><div><div>KNeighborsClassifier</div></div><div><a class=\"sk-estimator-doc-link fitted\" rel=\"noreferrer\" target=\"_blank\" href=\"https://scikit-learn.org/1.6/modules/generated/sklearn.neighbors.KNeighborsClassifier.html\">?<span>Documentation for KNeighborsClassifier</span></a><span class=\"sk-estimator-doc-link fitted\">i<span>Fitted</span></span></div></label><div class=\"sk-toggleable__content fitted\"><pre>KNeighborsClassifier(n_neighbors=10)</pre></div> </div></div></div></div>"
            ]
          },
          "metadata": {},
          "execution_count": 198
        }
      ]
    },
    {
      "cell_type": "code",
      "source": [
        "preds_train = modelo.predict(X_train_transformed)\n",
        "preds_test = modelo.predict(X_test_transformed)"
      ],
      "metadata": {
        "id": "msIzU7Q2BrW4"
      },
      "execution_count": 199,
      "outputs": []
    },
    {
      "cell_type": "code",
      "execution_count": 200,
      "metadata": {
        "id": "7sTmhj_WCMf_",
        "colab": {
          "base_uri": "https://localhost:8080/"
        },
        "outputId": "1fafa919-7a2f-440a-b1e0-b35173de1732"
      },
      "outputs": [
        {
          "output_type": "stream",
          "name": "stdout",
          "text": [
            "Accuracy en entrenamiento: 0.979342569063038\n",
            "Accuracy en prueba: 0.980983606557377\n"
          ]
        }
      ],
      "source": [
        "print(\"Accuracy en entrenamiento:\", accuracy_score(y_train, preds_train))\n",
        "print(\"Accuracy en prueba:\", accuracy_score(y_test, preds_test))"
      ]
    },
    {
      "cell_type": "code",
      "source": [
        "cm = confusion_matrix(y_test, preds_test)"
      ],
      "metadata": {
        "id": "DZHfho9qCDql"
      },
      "execution_count": 201,
      "outputs": []
    },
    {
      "cell_type": "code",
      "source": [
        "print(\"Matriz de confusión:\")\n",
        "print(cm)"
      ],
      "metadata": {
        "colab": {
          "base_uri": "https://localhost:8080/"
        },
        "id": "bA6DfKSuCEig",
        "outputId": "282d35d9-1578-449f-c732-bfdee1f1f831"
      },
      "execution_count": 202,
      "outputs": [
        {
          "output_type": "stream",
          "name": "stdout",
          "text": [
            "Matriz de confusión:\n",
            "[[1790    0    1 ...    0    0    0]\n",
            " [   3  543    1 ...    0    0    0]\n",
            " [   1    0  225 ...    0    0    0]\n",
            " ...\n",
            " [   0    0    0 ...    0    1    0]\n",
            " [   0    0    0 ...    0    1    0]\n",
            " [   0    0    0 ...    0    1    0]]\n"
          ]
        }
      ]
    },
    {
      "cell_type": "code",
      "execution_count": 203,
      "metadata": {
        "id": "Qdkqjy5uCOmt",
        "colab": {
          "base_uri": "https://localhost:8080/"
        },
        "outputId": "5fd5100f-b6cc-4b1c-cd01-7f548756063d"
      },
      "outputs": [
        {
          "output_type": "stream",
          "name": "stdout",
          "text": [
            "Reporte de clasificación:\n",
            "              precision    recall  f1-score   support\n",
            "\n",
            "           1       1.00      1.00      1.00      1791\n",
            "           2       1.00      0.99      1.00       547\n",
            "           3       0.97      0.99      0.98       227\n",
            "           4       0.97      0.94      0.96       115\n",
            "           5       1.00      0.97      0.99        72\n",
            "           6       0.96      0.98      0.97        44\n",
            "           7       1.00      1.00      1.00        18\n",
            "           8       1.00      0.95      0.97        19\n",
            "           9       1.00      1.00      1.00        17\n",
            "          10       0.67      0.67      0.67         3\n",
            "          12       0.00      0.00      0.00         1\n",
            "          19       0.83      1.00      0.91        15\n",
            "          20       0.00      0.00      0.00         1\n",
            "          33       0.00      0.00      0.00         1\n",
            "          37       0.00      0.00      0.00         1\n",
            "          48       1.00      0.50      0.67         2\n",
            "          85       0.77      0.94      0.85        18\n",
            "          87       0.00      0.00      0.00         1\n",
            "          93       1.00      1.00      1.00         9\n",
            "          95       0.00      0.00      0.00         3\n",
            "          96       0.67      0.40      0.50         5\n",
            "         128       0.00      0.00      0.00         1\n",
            "         149       0.00      0.00      0.00         2\n",
            "         162       0.00      0.00      0.00         1\n",
            "         168       0.00      0.00      0.00         1\n",
            "         170       0.93      1.00      0.96        53\n",
            "         186       1.00      1.00      1.00        11\n",
            "         189       0.82      1.00      0.90        18\n",
            "         221       0.00      0.00      0.00         1\n",
            "         255       0.00      0.00      0.00         0\n",
            "         272       0.00      0.00      0.00         0\n",
            "         284       0.00      0.00      0.00         1\n",
            "         298       1.00      0.33      0.50         3\n",
            "         340       0.90      1.00      0.95        19\n",
            "         372       0.00      0.00      0.00         1\n",
            "         477       0.00      0.00      0.00         1\n",
            "         510       0.78      1.00      0.88         7\n",
            "         529       0.00      0.00      0.00         1\n",
            "         595       0.33      0.50      0.40         2\n",
            "         605       0.00      0.00      0.00         1\n",
            "         609       0.00      0.00      0.00         1\n",
            "         612       0.00      0.00      0.00         1\n",
            "         638       0.00      0.00      0.00         1\n",
            "         668       0.00      0.00      0.00         1\n",
            "         669       0.00      0.00      0.00         1\n",
            "         680       0.23      1.00      0.38         3\n",
            "         765       0.00      0.00      0.00         2\n",
            "         808       0.00      0.00      0.00         1\n",
            "         817       0.00      0.00      0.00         1\n",
            "         850       0.00      0.00      0.00         1\n",
            "         860       0.00      0.00      0.00         1\n",
            "         935       0.33      1.00      0.50         1\n",
            "         978       0.00      0.00      0.00         1\n",
            "\n",
            "    accuracy                           0.98      3050\n",
            "   macro avg       0.38      0.40      0.38      3050\n",
            "weighted avg       0.98      0.98      0.98      3050\n",
            "\n"
          ]
        },
        {
          "output_type": "stream",
          "name": "stderr",
          "text": [
            "/usr/local/lib/python3.10/dist-packages/sklearn/metrics/_classification.py:1565: UndefinedMetricWarning: Precision is ill-defined and being set to 0.0 in labels with no predicted samples. Use `zero_division` parameter to control this behavior.\n",
            "  _warn_prf(average, modifier, f\"{metric.capitalize()} is\", len(result))\n",
            "/usr/local/lib/python3.10/dist-packages/sklearn/metrics/_classification.py:1565: UndefinedMetricWarning: Recall is ill-defined and being set to 0.0 in labels with no true samples. Use `zero_division` parameter to control this behavior.\n",
            "  _warn_prf(average, modifier, f\"{metric.capitalize()} is\", len(result))\n",
            "/usr/local/lib/python3.10/dist-packages/sklearn/metrics/_classification.py:1565: UndefinedMetricWarning: Precision is ill-defined and being set to 0.0 in labels with no predicted samples. Use `zero_division` parameter to control this behavior.\n",
            "  _warn_prf(average, modifier, f\"{metric.capitalize()} is\", len(result))\n",
            "/usr/local/lib/python3.10/dist-packages/sklearn/metrics/_classification.py:1565: UndefinedMetricWarning: Recall is ill-defined and being set to 0.0 in labels with no true samples. Use `zero_division` parameter to control this behavior.\n",
            "  _warn_prf(average, modifier, f\"{metric.capitalize()} is\", len(result))\n",
            "/usr/local/lib/python3.10/dist-packages/sklearn/metrics/_classification.py:1565: UndefinedMetricWarning: Precision is ill-defined and being set to 0.0 in labels with no predicted samples. Use `zero_division` parameter to control this behavior.\n",
            "  _warn_prf(average, modifier, f\"{metric.capitalize()} is\", len(result))\n",
            "/usr/local/lib/python3.10/dist-packages/sklearn/metrics/_classification.py:1565: UndefinedMetricWarning: Recall is ill-defined and being set to 0.0 in labels with no true samples. Use `zero_division` parameter to control this behavior.\n",
            "  _warn_prf(average, modifier, f\"{metric.capitalize()} is\", len(result))\n"
          ]
        }
      ],
      "source": [
        "print(\"Reporte de clasificación:\")\n",
        "print(classification_report(y_test, preds_test))"
      ]
    },
    {
      "cell_type": "code",
      "execution_count": 204,
      "metadata": {
        "id": "Nc-W7HOyCQJ1",
        "colab": {
          "base_uri": "https://localhost:8080/",
          "height": 718
        },
        "outputId": "62052070-1e55-43d7-eeff-cba8597c3827"
      },
      "outputs": [
        {
          "output_type": "display_data",
          "data": {
            "text/plain": [
              "<Figure size 1000x800 with 2 Axes>"
            ],
            "image/png": "[encoded data removed]"
          },
          "metadata": {}
        }
      ],
      "source": [
        "plt.figure(figsize=(10, 8))\n",
        "sns.heatmap(confusion_matrix(y_test, preds_test), annot=True, fmt='d', cmap='Reds')\n",
        "plt.title('Matriz de Confusión')\n",
        "plt.xlabel('Predicción')\n",
        "plt.ylabel('Realidad')\n",
        "plt.show()"
      ]
    },
    {
      "cell_type": "code",
      "source": [
        "numeric_df = df.select_dtypes(include=np.number)"
      ],
      "metadata": {
        "id": "t5xRibC3DDDn"
      },
      "execution_count": 205,
      "outputs": []
    },
    {
      "cell_type": "code",
      "source": [
        "corr = numeric_df.corr()"
      ],
      "metadata": {
        "id": "wix6W8eUDGad"
      },
      "execution_count": 206,
      "outputs": []
    },
    {
      "cell_type": "code",
      "execution_count": 207,
      "metadata": {
        "id": "3kDhJowJbNdf",
        "colab": {
          "base_uri": "https://localhost:8080/",
          "height": 545
        },
        "outputId": "5e243dec-9cae-4ad7-b84d-55348848bb83"
      },
      "outputs": [
        {
          "output_type": "display_data",
          "data": {
            "text/plain": [
              "<Figure size 1000x600 with 2 Axes>"
            ],
            "image/png": "[encoded data removed]"
          },
          "metadata": {}
        }
      ],
      "source": [
        "plt.figure(figsize=(10, 6))\n",
        "sns.heatmap(corr, annot=True, cmap='coolwarm')\n",
        "plt.title('Distribucion de pasajeros')\n",
        "plt.show()"
      ]
    },
    {
      "cell_type": "code",
      "source": [
        "df['asientos'] = pd.to_numeric(df['asientos'], errors='coerce')\n",
        "df['pasajeros'] = pd.to_numeric(df['pasajeros'], errors='coerce')"
      ],
      "metadata": {
        "id": "6edAfQhEDfR5"
      },
      "execution_count": 132,
      "outputs": []
    },
    {
      "cell_type": "code",
      "execution_count": 133,
      "metadata": {
        "id": "9uAevrLBbF4r",
        "colab": {
          "base_uri": "https://localhost:8080/",
          "height": 565
        },
        "outputId": "8682436a-9a29-423c-d458-ace3dbde9291"
      },
      "outputs": [
        {
          "output_type": "display_data",
          "data": {
            "text/plain": [
              "<Figure size 1000x600 with 1 Axes>"
            ],
            "image/png": "[encoded data removed]"
          },
          "metadata": {}
        }
      ],
      "source": [
        "df = df.dropna(subset=['asientos', 'pasajeros'])\n",
        "\n",
        "plt.figure(figsize=(10, 6))\n",
        "sns.scatterplot(x='asientos', y='pasajeros', data=df)\n",
        "plt.title('Relación entre Asientos y Pasajeros')\n",
        "plt.show()"
      ]
    },
    {
      "cell_type": "code",
      "execution_count": 134,
      "metadata": {
        "id": "xWNjyL2hbIzU",
        "colab": {
          "base_uri": "https://localhost:8080/",
          "height": 564
        },
        "outputId": "e4456895-a627-4a70-9e0a-b8d1caa75d61"
      },
      "outputs": [
        {
          "output_type": "display_data",
          "data": {
            "text/plain": [
              "<Figure size 1000x600 with 1 Axes>"
            ],
            "image/png": "[encoded data removed]"
          },
          "metadata": {}
        }
      ],
      "source": [
        "plt.figure(figsize=(10, 6))\n",
        "sns.boxplot(x=df['pasajeros'])\n",
        "plt.title('Boxplot de Pasajeros')\n",
        "plt.show()"
      ]
    },
    {
      "cell_type": "code",
      "execution_count": 140,
      "metadata": {
        "id": "YmX899sSprCP",
        "colab": {
          "base_uri": "https://localhost:8080/"
        },
        "outputId": "4a7ac44e-5a17-4ea9-c2d3-f54b0304dace"
      },
      "outputs": [
        {
          "output_type": "stream",
          "name": "stdout",
          "text": [
            "Precision (micro): 0.980983606557377\n",
            "Precision (macro): 0.3804224765368295\n",
            "Precision (weighted): 0.976125091555018\n"
          ]
        },
        {
          "output_type": "stream",
          "name": "stderr",
          "text": [
            "/usr/local/lib/python3.10/dist-packages/sklearn/metrics/_classification.py:1565: UndefinedMetricWarning: Precision is ill-defined and being set to 0.0 in labels with no predicted samples. Use `zero_division` parameter to control this behavior.\n",
            "  _warn_prf(average, modifier, f\"{metric.capitalize()} is\", len(result))\n",
            "/usr/local/lib/python3.10/dist-packages/sklearn/metrics/_classification.py:1565: UndefinedMetricWarning: Precision is ill-defined and being set to 0.0 in labels with no predicted samples. Use `zero_division` parameter to control this behavior.\n",
            "  _warn_prf(average, modifier, f\"{metric.capitalize()} is\", len(result))\n"
          ]
        }
      ],
      "source": [
        "precision_micro = metrics.precision_score(y_test, preds, average='micro')\n",
        "precision_macro = metrics.precision_score(y_test, preds, average='macro')\n",
        "precision_weighted = metrics.precision_score(y_test, preds, average='weighted')\n",
        "\n",
        "print(f\"Precision (micro): {precision_micro}\")\n",
        "print(f\"Precision (macro): {precision_macro}\")\n",
        "print(f\"Precision (weighted): {precision_weighted}\")"
      ]
    },
    {
      "cell_type": "code",
      "source": [
        "precision_clase = metrics.precision_score(y_test, preds, labels=[1], average=None)\n",
        "print(f\"Precision para la clase positiva: {precision_clase}\")"
      ],
      "metadata": {
        "colab": {
          "base_uri": "https://localhost:8080/"
        },
        "id": "CEgZcYm9GCt2",
        "outputId": "b2bd0005-620f-4c03-9d55-ad2fa2a51cc2"
      },
      "execution_count": 142,
      "outputs": [
        {
          "output_type": "stream",
          "name": "stdout",
          "text": [
            "Precision para la clase positiva: [0.99665924]\n"
          ]
        }
      ]
    },
    {
      "cell_type": "code",
      "source": [
        "print(f\"Clases únicas en y_test: {set(y_test)}\")"
      ],
      "metadata": {
        "colab": {
          "base_uri": "https://localhost:8080/"
        },
        "id": "l2PVmLxbGE9j",
        "outputId": "ab517397-d26e-42d5-897c-0db6348ab814"
      },
      "execution_count": 143,
      "outputs": [
        {
          "output_type": "stream",
          "name": "stdout",
          "text": [
            "Clases únicas en y_test: {128, 1, 2, 3, 4, 5, 6, 7, 8, 9, 638, 10, 12, 529, 19, 20, 149, 284, 668, 669, 33, 162, 37, 935, 168, 680, 170, 298, 808, 48, 817, 186, 189, 850, 595, 340, 85, 978, 87, 860, 93, 221, 605, 96, 95, 609, 477, 612, 372, 765, 510}\n"
          ]
        }
      ]
    },
    {
      "cell_type": "code",
      "source": [
        "print(\"Clases únicas:\", set(y_test))\n",
        "\n",
        "\n",
        "precision_micro = precision_score(y_test, preds, average='micro')\n",
        "precision_macro = precision_score(y_test, preds, average='macro')\n",
        "precision_weighted = precision_score(y_test, preds, average='weighted')\n",
        "\n",
        "print(f\"Precision Micro: {precision_micro}\")\n",
        "print(f\"Precision Macro: {precision_macro}\")\n",
        "print(f\"Precision Weighted: {precision_weighted}\")"
      ],
      "metadata": {
        "colab": {
          "base_uri": "https://localhost:8080/"
        },
        "id": "UsiHBo9zGHym",
        "outputId": "64de7c09-116a-40b9-994b-9588ec064334"
      },
      "execution_count": 147,
      "outputs": [
        {
          "output_type": "stream",
          "name": "stdout",
          "text": [
            "Clases únicas: {128, 1, 2, 3, 4, 5, 6, 7, 8, 9, 638, 10, 12, 529, 19, 20, 149, 284, 668, 669, 33, 162, 37, 935, 168, 680, 170, 298, 808, 48, 817, 186, 189, 850, 595, 340, 85, 978, 87, 860, 93, 221, 605, 96, 95, 609, 477, 612, 372, 765, 510}\n",
            "Precision Micro: 0.980983606557377\n",
            "Precision Macro: 0.3804224765368295\n",
            "Precision Weighted: 0.976125091555018\n"
          ]
        },
        {
          "output_type": "stream",
          "name": "stderr",
          "text": [
            "/usr/local/lib/python3.10/dist-packages/sklearn/metrics/_classification.py:1565: UndefinedMetricWarning: Precision is ill-defined and being set to 0.0 in labels with no predicted samples. Use `zero_division` parameter to control this behavior.\n",
            "  _warn_prf(average, modifier, f\"{metric.capitalize()} is\", len(result))\n",
            "/usr/local/lib/python3.10/dist-packages/sklearn/metrics/_classification.py:1565: UndefinedMetricWarning: Precision is ill-defined and being set to 0.0 in labels with no predicted samples. Use `zero_division` parameter to control this behavior.\n",
            "  _warn_prf(average, modifier, f\"{metric.capitalize()} is\", len(result))\n"
          ]
        }
      ]
    },
    {
      "cell_type": "code",
      "source": [
        "recall_micro = recall_score(y_test, preds, average='micro')\n",
        "recall_macro = recall_score(y_test, preds, average='macro')\n",
        "recall_weighted = recall_score(y_test, preds, average='weighted')\n",
        "\n",
        "print(f\"Recall (micro): {recall_micro}\")\n",
        "print(f\"Recall (macro): {recall_macro}\")\n",
        "print(f\"Recall (weighted): {recall_weighted}\")"
      ],
      "metadata": {
        "colab": {
          "base_uri": "https://localhost:8080/"
        },
        "id": "yxHW8I1GGdYc",
        "outputId": "401e144b-5ccd-4911-d241-6fb90832697f"
      },
      "execution_count": 151,
      "outputs": [
        {
          "output_type": "stream",
          "name": "stdout",
          "text": [
            "Recall (micro): 0.980983606557377\n",
            "Recall (macro): 0.39931616444407164\n",
            "Recall (weighted): 0.980983606557377\n"
          ]
        },
        {
          "output_type": "stream",
          "name": "stderr",
          "text": [
            "/usr/local/lib/python3.10/dist-packages/sklearn/metrics/_classification.py:1565: UndefinedMetricWarning: Recall is ill-defined and being set to 0.0 in labels with no true samples. Use `zero_division` parameter to control this behavior.\n",
            "  _warn_prf(average, modifier, f\"{metric.capitalize()} is\", len(result))\n",
            "/usr/local/lib/python3.10/dist-packages/sklearn/metrics/_classification.py:1565: UndefinedMetricWarning: Recall is ill-defined and being set to 0.0 in labels with no true samples. Use `zero_division` parameter to control this behavior.\n",
            "  _warn_prf(average, modifier, f\"{metric.capitalize()} is\", len(result))\n"
          ]
        }
      ]
    },
    {
      "cell_type": "code",
      "source": [
        "recall_clase_1 = recall_score(y_test, preds, labels=[1], average=None)\n",
        "recall_clase_0 = recall_score(y_test, preds, labels=[0], average=None)\n",
        "\n",
        "print(f\"Recall para la clase 1: {recall_clase_1}\")\n",
        "print(f\"Recall para la clase 0: {recall_clase_0}\")"
      ],
      "metadata": {
        "colab": {
          "base_uri": "https://localhost:8080/"
        },
        "id": "I-qunClkGlJ4",
        "outputId": "9638560e-8373-453e-ede8-5f2354fbedbd"
      },
      "execution_count": 152,
      "outputs": [
        {
          "output_type": "stream",
          "name": "stdout",
          "text": [
            "Recall para la clase 1: [0.99944165]\n",
            "Recall para la clase 0: [0.]\n"
          ]
        },
        {
          "output_type": "stream",
          "name": "stderr",
          "text": [
            "/usr/local/lib/python3.10/dist-packages/sklearn/metrics/_classification.py:1565: UndefinedMetricWarning: Recall is ill-defined and being set to 0.0 due to no true samples. Use `zero_division` parameter to control this behavior.\n",
            "  _warn_prf(average, modifier, f\"{metric.capitalize()} is\", len(result))\n"
          ]
        }
      ]
    },
    {
      "cell_type": "code",
      "source": [
        "print(f\"Clases únicas en y_test: {set(y_test)}\")\n",
        "print(f\"Clases únicas en preds: {set(preds)}\")"
      ],
      "metadata": {
        "colab": {
          "base_uri": "https://localhost:8080/"
        },
        "id": "VhjfugZJGmqa",
        "outputId": "08094ebf-1a2d-41c6-ae5c-db358685e331"
      },
      "execution_count": 153,
      "outputs": [
        {
          "output_type": "stream",
          "name": "stdout",
          "text": [
            "Clases únicas en y_test: {128, 1, 2, 3, 4, 5, 6, 7, 8, 9, 638, 10, 12, 529, 19, 20, 149, 284, 668, 669, 33, 162, 37, 935, 168, 680, 170, 298, 808, 48, 817, 186, 189, 850, 595, 340, 85, 978, 87, 860, 93, 221, 605, 96, 95, 609, 477, 612, 372, 765, 510}\n",
            "Clases únicas en preds: {1, 2, 3, 4, 5, 6, 7, 8, 9, 10, 272, 19, 935, 680, 168, 170, 298, 48, 186, 189, 595, 340, 85, 93, 96, 510, 255}\n"
          ]
        }
      ]
    },
    {
      "cell_type": "code",
      "source": [
        "print(\"Clases únicas en y_test:\", set(y_test))\n",
        "print(\"Clases únicas en preds:\", set(preds))"
      ],
      "metadata": {
        "colab": {
          "base_uri": "https://localhost:8080/"
        },
        "id": "eUdIJdDFGoyM",
        "outputId": "ccfb1649-cb9b-42b3-a8f1-2681a8245e2c"
      },
      "execution_count": 154,
      "outputs": [
        {
          "output_type": "stream",
          "name": "stdout",
          "text": [
            "Clases únicas en y_test: {128, 1, 2, 3, 4, 5, 6, 7, 8, 9, 638, 10, 12, 529, 19, 20, 149, 284, 668, 669, 33, 162, 37, 935, 168, 680, 170, 298, 808, 48, 817, 186, 189, 850, 595, 340, 85, 978, 87, 860, 93, 221, 605, 96, 95, 609, 477, 612, 372, 765, 510}\n",
            "Clases únicas en preds: {1, 2, 3, 4, 5, 6, 7, 8, 9, 10, 272, 19, 935, 680, 168, 170, 298, 48, 186, 189, 595, 340, 85, 93, 96, 510, 255}\n"
          ]
        }
      ]
    },
    {
      "cell_type": "code",
      "source": [
        "recall_micro = recall_score(y_test, preds, average='micro')\n",
        "recall_macro = recall_score(y_test, preds, average='macro')\n",
        "recall_weighted = recall_score(y_test, preds, average='weighted')\n",
        "\n",
        "print(f\"Recall Micro: {recall_micro}\")\n",
        "print(f\"Recall Macro: {recall_macro}\")\n",
        "print(f\"Recall Weighted: {recall_weighted}\")"
      ],
      "metadata": {
        "colab": {
          "base_uri": "https://localhost:8080/"
        },
        "id": "HlOohOW8Gtcm",
        "outputId": "663efe36-ef60-4a63-8d63-61631a90fa34"
      },
      "execution_count": 155,
      "outputs": [
        {
          "output_type": "stream",
          "name": "stdout",
          "text": [
            "Recall Micro: 0.980983606557377\n",
            "Recall Macro: 0.39931616444407164\n",
            "Recall Weighted: 0.980983606557377\n"
          ]
        },
        {
          "output_type": "stream",
          "name": "stderr",
          "text": [
            "/usr/local/lib/python3.10/dist-packages/sklearn/metrics/_classification.py:1565: UndefinedMetricWarning: Recall is ill-defined and being set to 0.0 in labels with no true samples. Use `zero_division` parameter to control this behavior.\n",
            "  _warn_prf(average, modifier, f\"{metric.capitalize()} is\", len(result))\n",
            "/usr/local/lib/python3.10/dist-packages/sklearn/metrics/_classification.py:1565: UndefinedMetricWarning: Recall is ill-defined and being set to 0.0 in labels with no true samples. Use `zero_division` parameter to control this behavior.\n",
            "  _warn_prf(average, modifier, f\"{metric.capitalize()} is\", len(result))\n"
          ]
        }
      ]
    },
    {
      "cell_type": "code",
      "execution_count": 157,
      "metadata": {
        "id": "96KaRyXFpssq",
        "colab": {
          "base_uri": "https://localhost:8080/"
        },
        "outputId": "3491b08c-1867-43cf-d54d-9fa9c9e36a62",
        "collapsed": true
      },
      "outputs": [
        {
          "output_type": "stream",
          "name": "stdout",
          "text": [
            "              precision    recall  f1-score   support\n",
            "\n",
            "           1       1.00      1.00      1.00      1791\n",
            "           2       1.00      0.99      1.00       547\n",
            "           3       0.97      0.99      0.98       227\n",
            "           4       0.97      0.94      0.96       115\n",
            "           5       1.00      0.97      0.99        72\n",
            "           6       0.96      0.98      0.97        44\n",
            "           7       1.00      1.00      1.00        18\n",
            "           8       1.00      0.95      0.97        19\n",
            "           9       1.00      1.00      1.00        17\n",
            "          10       0.67      0.67      0.67         3\n",
            "          12       0.00      0.00      0.00         1\n",
            "          19       0.83      1.00      0.91        15\n",
            "          20       0.00      0.00      0.00         1\n",
            "          33       0.00      0.00      0.00         1\n",
            "          37       0.00      0.00      0.00         1\n",
            "          48       1.00      0.50      0.67         2\n",
            "          85       0.77      0.94      0.85        18\n",
            "          87       0.00      0.00      0.00         1\n",
            "          93       1.00      1.00      1.00         9\n",
            "          95       0.00      0.00      0.00         3\n",
            "          96       0.67      0.40      0.50         5\n",
            "         128       0.00      0.00      0.00         1\n",
            "         149       0.00      0.00      0.00         2\n",
            "         162       0.00      0.00      0.00         1\n",
            "         168       0.00      0.00      0.00         1\n",
            "         170       0.93      1.00      0.96        53\n",
            "         186       1.00      1.00      1.00        11\n",
            "         189       0.82      1.00      0.90        18\n",
            "         221       0.00      0.00      0.00         1\n",
            "         255       0.00      0.00      0.00         0\n",
            "         272       0.00      0.00      0.00         0\n",
            "         284       0.00      0.00      0.00         1\n",
            "         298       1.00      0.33      0.50         3\n",
            "         340       0.90      1.00      0.95        19\n",
            "         372       0.00      0.00      0.00         1\n",
            "         477       0.00      0.00      0.00         1\n",
            "         510       0.78      1.00      0.88         7\n",
            "         529       0.00      0.00      0.00         1\n",
            "         595       0.33      0.50      0.40         2\n",
            "         605       0.00      0.00      0.00         1\n",
            "         609       0.00      0.00      0.00         1\n",
            "         612       0.00      0.00      0.00         1\n",
            "         638       0.00      0.00      0.00         1\n",
            "         668       0.00      0.00      0.00         1\n",
            "         669       0.00      0.00      0.00         1\n",
            "         680       0.23      1.00      0.38         3\n",
            "         765       0.00      0.00      0.00         2\n",
            "         808       0.00      0.00      0.00         1\n",
            "         817       0.00      0.00      0.00         1\n",
            "         850       0.00      0.00      0.00         1\n",
            "         860       0.00      0.00      0.00         1\n",
            "         935       0.33      1.00      0.50         1\n",
            "         978       0.00      0.00      0.00         1\n",
            "\n",
            "    accuracy                           0.98      3050\n",
            "   macro avg       0.38      0.40      0.38      3050\n",
            "weighted avg       0.98      0.98      0.98      3050\n",
            "\n"
          ]
        },
        {
          "output_type": "stream",
          "name": "stderr",
          "text": [
            "/usr/local/lib/python3.10/dist-packages/sklearn/metrics/_classification.py:1565: UndefinedMetricWarning: Precision is ill-defined and being set to 0.0 in labels with no predicted samples. Use `zero_division` parameter to control this behavior.\n",
            "  _warn_prf(average, modifier, f\"{metric.capitalize()} is\", len(result))\n",
            "/usr/local/lib/python3.10/dist-packages/sklearn/metrics/_classification.py:1565: UndefinedMetricWarning: Recall is ill-defined and being set to 0.0 in labels with no true samples. Use `zero_division` parameter to control this behavior.\n",
            "  _warn_prf(average, modifier, f\"{metric.capitalize()} is\", len(result))\n",
            "/usr/local/lib/python3.10/dist-packages/sklearn/metrics/_classification.py:1565: UndefinedMetricWarning: Precision is ill-defined and being set to 0.0 in labels with no predicted samples. Use `zero_division` parameter to control this behavior.\n",
            "  _warn_prf(average, modifier, f\"{metric.capitalize()} is\", len(result))\n",
            "/usr/local/lib/python3.10/dist-packages/sklearn/metrics/_classification.py:1565: UndefinedMetricWarning: Recall is ill-defined and being set to 0.0 in labels with no true samples. Use `zero_division` parameter to control this behavior.\n",
            "  _warn_prf(average, modifier, f\"{metric.capitalize()} is\", len(result))\n",
            "/usr/local/lib/python3.10/dist-packages/sklearn/metrics/_classification.py:1565: UndefinedMetricWarning: Precision is ill-defined and being set to 0.0 in labels with no predicted samples. Use `zero_division` parameter to control this behavior.\n",
            "  _warn_prf(average, modifier, f\"{metric.capitalize()} is\", len(result))\n",
            "/usr/local/lib/python3.10/dist-packages/sklearn/metrics/_classification.py:1565: UndefinedMetricWarning: Recall is ill-defined and being set to 0.0 in labels with no true samples. Use `zero_division` parameter to control this behavior.\n",
            "  _warn_prf(average, modifier, f\"{metric.capitalize()} is\", len(result))\n"
          ]
        }
      ],
      "source": [
        "print(classification_report(y_test, preds))\n"
      ]
    },
    {
      "cell_type": "code",
      "execution_count": 158,
      "metadata": {
        "id": "kojhTEQApvFI",
        "colab": {
          "base_uri": "https://localhost:8080/"
        },
        "outputId": "120909ff-c4dd-49bd-b2c2-2227b5c0a88e"
      },
      "outputs": [
        {
          "output_type": "execute_result",
          "data": {
            "text/plain": [
              "0.979342569063038"
            ]
          },
          "metadata": {},
          "execution_count": 158
        }
      ],
      "source": [
        "accuracy = metrics.accuracy_score(y_train, preds_train)\n",
        "accuracy"
      ]
    },
    {
      "cell_type": "code",
      "execution_count": 160,
      "metadata": {
        "id": "BwuXTfVUpxlO"
      },
      "outputs": [],
      "source": [
        "f1_positivo = metrics.f1_score(y_train, preds_train, average='weighted')\n",
        "f1_negativo = metrics.f1_score(y_train, preds_train, average='weighted')"
      ]
    },
    {
      "cell_type": "code",
      "execution_count": 162,
      "metadata": {
        "id": "kj9ubtnGp2pu",
        "colab": {
          "base_uri": "https://localhost:8080/"
        },
        "outputId": "351b4476-f5b8-4daf-ff4a-7380d7aae12d",
        "collapsed": true
      },
      "outputs": [
        {
          "output_type": "stream",
          "name": "stdout",
          "text": [
            "              precision    recall  f1-score   support\n",
            "\n",
            "           1       1.00      1.00      1.00      6995\n",
            "           2       1.00      0.99      1.00      2106\n",
            "           3       0.98      0.99      0.99       993\n",
            "           4       0.98      0.97      0.98       452\n",
            "           5       0.99      0.98      0.98       286\n",
            "           6       0.90      0.98      0.94       176\n",
            "           7       0.96      0.93      0.94       116\n",
            "           8       0.98      0.93      0.95        95\n",
            "           9       1.00      0.94      0.97        53\n",
            "          10       0.77      0.57      0.65        30\n",
            "          11       0.00      0.00      0.00         4\n",
            "          12       0.00      0.00      0.00         1\n",
            "          13       0.00      0.00      0.00         2\n",
            "          14       0.00      0.00      0.00         2\n",
            "          15       0.00      0.00      0.00         1\n",
            "          19       0.75      0.98      0.85        49\n",
            "          20       0.00      0.00      0.00         4\n",
            "          21       0.00      0.00      0.00         1\n",
            "          30       0.00      0.00      0.00         1\n",
            "          33       0.00      0.00      0.00         1\n",
            "          37       0.00      0.00      0.00         6\n",
            "          48       1.00      0.29      0.44         7\n",
            "          69       0.00      0.00      0.00         1\n",
            "          83       0.00      0.00      0.00         1\n",
            "          85       0.79      0.96      0.87        57\n",
            "          86       0.00      0.00      0.00         1\n",
            "          87       0.00      0.00      0.00         2\n",
            "          93       0.91      0.91      0.91        32\n",
            "          95       0.00      0.00      0.00         8\n",
            "          96       0.77      0.71      0.74        14\n",
            "         111       0.00      0.00      0.00         1\n",
            "         128       0.00      0.00      0.00         5\n",
            "         133       0.00      0.00      0.00         1\n",
            "         136       0.00      0.00      0.00         1\n",
            "         137       0.00      0.00      0.00         2\n",
            "         144       0.00      0.00      0.00         1\n",
            "         168       0.46      0.75      0.57         8\n",
            "         170       0.91      1.00      0.96       213\n",
            "         174       0.00      0.00      0.00         4\n",
            "         186       0.88      0.96      0.92        53\n",
            "         189       0.88      1.00      0.93        91\n",
            "         192       0.00      0.00      0.00         1\n",
            "         218       0.00      0.00      0.00         1\n",
            "         220       0.50      0.25      0.33         4\n",
            "         229       0.00      0.00      0.00         2\n",
            "         234       0.00      0.00      0.00         1\n",
            "         239       0.00      0.00      0.00         1\n",
            "         247       0.00      0.00      0.00         3\n",
            "         255       0.60      0.80      0.69        15\n",
            "         265       0.00      0.00      0.00         2\n",
            "         266       0.00      0.00      0.00         1\n",
            "         272       0.00      0.00      0.00         3\n",
            "         279       0.00      0.00      0.00         3\n",
            "         284       0.00      0.00      0.00         4\n",
            "         290       0.00      0.00      0.00         1\n",
            "         298       1.00      0.57      0.73         7\n",
            "         307       0.00      0.00      0.00         3\n",
            "         319       0.00      0.00      0.00         1\n",
            "         324       0.00      0.00      0.00         1\n",
            "         340       0.88      1.00      0.94       120\n",
            "         348       0.00      0.00      0.00         1\n",
            "         350       0.00      0.00      0.00         1\n",
            "         372       0.00      0.00      0.00         3\n",
            "         378       0.50      0.50      0.50         6\n",
            "         383       0.00      0.00      0.00         1\n",
            "         392       0.00      0.00      0.00         1\n",
            "         400       0.00      0.00      0.00         1\n",
            "         425       0.60      0.75      0.67        12\n",
            "         435       0.00      0.00      0.00         1\n",
            "         442       0.00      0.00      0.00         3\n",
            "         451       0.00      0.00      0.00         1\n",
            "         465       0.00      0.00      0.00         1\n",
            "         466       0.00      0.00      0.00         1\n",
            "         468       0.00      0.00      0.00         2\n",
            "         473       0.00      0.00      0.00         1\n",
            "         474       0.00      0.00      0.00         1\n",
            "         477       0.00      0.00      0.00         2\n",
            "         493       0.00      0.00      0.00         1\n",
            "         506       0.00      0.00      0.00         1\n",
            "         510       0.79      1.00      0.88        33\n",
            "         527       0.00      0.00      0.00         1\n",
            "         558       0.00      0.00      0.00         1\n",
            "         595       0.56      0.62      0.59         8\n",
            "         596       0.00      0.00      0.00         1\n",
            "         610       0.00      0.00      0.00         2\n",
            "         612       0.00      0.00      0.00         1\n",
            "         638       0.00      0.00      0.00         3\n",
            "         647       0.00      0.00      0.00         2\n",
            "         680       0.57      1.00      0.72        25\n",
            "         696       0.00      0.00      0.00         1\n",
            "         732       0.00      0.00      0.00         1\n",
            "         749       0.00      0.00      0.00         2\n",
            "         765       0.00      0.00      0.00         3\n",
            "         775       0.00      0.00      0.00         1\n",
            "         808       0.00      0.00      0.00         1\n",
            "         834       0.00      0.00      0.00         1\n",
            "         850       0.00      0.00      0.00         4\n",
            "         864       0.00      0.00      0.00         1\n",
            "         867       0.00      0.00      0.00         1\n",
            "         935       0.23      1.00      0.38         3\n",
            "         952       0.00      0.00      0.00         1\n",
            "         978       0.00      0.00      0.00         1\n",
            "        1020       0.20      0.25      0.22         4\n",
            "        1105       0.00      0.00      0.00         1\n",
            "        1190       0.00      0.00      0.00         2\n",
            "        1275       0.00      0.00      0.00         1\n",
            "        1292       0.00      0.00      0.00         1\n",
            "\n",
            "    accuracy                           0.98     12199\n",
            "   macro avg       0.22      0.23      0.22     12199\n",
            "weighted avg       0.97      0.98      0.97     12199\n",
            "\n"
          ]
        },
        {
          "output_type": "stream",
          "name": "stderr",
          "text": [
            "/usr/local/lib/python3.10/dist-packages/sklearn/metrics/_classification.py:1565: UndefinedMetricWarning: Precision is ill-defined and being set to 0.0 in labels with no predicted samples. Use `zero_division` parameter to control this behavior.\n",
            "  _warn_prf(average, modifier, f\"{metric.capitalize()} is\", len(result))\n",
            "/usr/local/lib/python3.10/dist-packages/sklearn/metrics/_classification.py:1565: UndefinedMetricWarning: Precision is ill-defined and being set to 0.0 in labels with no predicted samples. Use `zero_division` parameter to control this behavior.\n",
            "  _warn_prf(average, modifier, f\"{metric.capitalize()} is\", len(result))\n",
            "/usr/local/lib/python3.10/dist-packages/sklearn/metrics/_classification.py:1565: UndefinedMetricWarning: Precision is ill-defined and being set to 0.0 in labels with no predicted samples. Use `zero_division` parameter to control this behavior.\n",
            "  _warn_prf(average, modifier, f\"{metric.capitalize()} is\", len(result))\n"
          ]
        }
      ],
      "source": [
        "print(metrics.classification_report(y_train, preds_train))"
      ]
    },
    {
      "cell_type": "code",
      "execution_count": 163,
      "metadata": {
        "id": "tImaMsLap5JE",
        "colab": {
          "base_uri": "https://localhost:8080/"
        },
        "outputId": "732cc903-55a4-4223-ed24-a063b148e246",
        "collapsed": true
      },
      "outputs": [
        {
          "output_type": "stream",
          "name": "stdout",
          "text": [
            "              precision    recall  f1-score   support\n",
            "\n",
            "           1       1.00      1.00      1.00      1791\n",
            "           2       1.00      0.99      1.00       547\n",
            "           3       0.97      0.99      0.98       227\n",
            "           4       0.97      0.94      0.96       115\n",
            "           5       1.00      0.97      0.99        72\n",
            "           6       0.96      0.98      0.97        44\n",
            "           7       1.00      1.00      1.00        18\n",
            "           8       1.00      0.95      0.97        19\n",
            "           9       1.00      1.00      1.00        17\n",
            "          10       0.67      0.67      0.67         3\n",
            "          12       0.00      0.00      0.00         1\n",
            "          19       0.83      1.00      0.91        15\n",
            "          20       0.00      0.00      0.00         1\n",
            "          33       0.00      0.00      0.00         1\n",
            "          37       0.00      0.00      0.00         1\n",
            "          48       1.00      0.50      0.67         2\n",
            "          85       0.77      0.94      0.85        18\n",
            "          87       0.00      0.00      0.00         1\n",
            "          93       1.00      1.00      1.00         9\n",
            "          95       0.00      0.00      0.00         3\n",
            "          96       0.67      0.40      0.50         5\n",
            "         128       0.00      0.00      0.00         1\n",
            "         149       0.00      0.00      0.00         2\n",
            "         162       0.00      0.00      0.00         1\n",
            "         168       0.00      0.00      0.00         1\n",
            "         170       0.93      1.00      0.96        53\n",
            "         186       1.00      1.00      1.00        11\n",
            "         189       0.82      1.00      0.90        18\n",
            "         221       0.00      0.00      0.00         1\n",
            "         255       0.00      0.00      0.00         0\n",
            "         272       0.00      0.00      0.00         0\n",
            "         284       0.00      0.00      0.00         1\n",
            "         298       1.00      0.33      0.50         3\n",
            "         340       0.90      1.00      0.95        19\n",
            "         372       0.00      0.00      0.00         1\n",
            "         477       0.00      0.00      0.00         1\n",
            "         510       0.78      1.00      0.88         7\n",
            "         529       0.00      0.00      0.00         1\n",
            "         595       0.33      0.50      0.40         2\n",
            "         605       0.00      0.00      0.00         1\n",
            "         609       0.00      0.00      0.00         1\n",
            "         612       0.00      0.00      0.00         1\n",
            "         638       0.00      0.00      0.00         1\n",
            "         668       0.00      0.00      0.00         1\n",
            "         669       0.00      0.00      0.00         1\n",
            "         680       0.23      1.00      0.38         3\n",
            "         765       0.00      0.00      0.00         2\n",
            "         808       0.00      0.00      0.00         1\n",
            "         817       0.00      0.00      0.00         1\n",
            "         850       0.00      0.00      0.00         1\n",
            "         860       0.00      0.00      0.00         1\n",
            "         935       0.33      1.00      0.50         1\n",
            "         978       0.00      0.00      0.00         1\n",
            "\n",
            "    accuracy                           0.98      3050\n",
            "   macro avg       0.38      0.40      0.38      3050\n",
            "weighted avg       0.98      0.98      0.98      3050\n",
            "\n"
          ]
        },
        {
          "output_type": "stream",
          "name": "stderr",
          "text": [
            "/usr/local/lib/python3.10/dist-packages/sklearn/metrics/_classification.py:1565: UndefinedMetricWarning: Precision is ill-defined and being set to 0.0 in labels with no predicted samples. Use `zero_division` parameter to control this behavior.\n",
            "  _warn_prf(average, modifier, f\"{metric.capitalize()} is\", len(result))\n",
            "/usr/local/lib/python3.10/dist-packages/sklearn/metrics/_classification.py:1565: UndefinedMetricWarning: Recall is ill-defined and being set to 0.0 in labels with no true samples. Use `zero_division` parameter to control this behavior.\n",
            "  _warn_prf(average, modifier, f\"{metric.capitalize()} is\", len(result))\n",
            "/usr/local/lib/python3.10/dist-packages/sklearn/metrics/_classification.py:1565: UndefinedMetricWarning: Precision is ill-defined and being set to 0.0 in labels with no predicted samples. Use `zero_division` parameter to control this behavior.\n",
            "  _warn_prf(average, modifier, f\"{metric.capitalize()} is\", len(result))\n",
            "/usr/local/lib/python3.10/dist-packages/sklearn/metrics/_classification.py:1565: UndefinedMetricWarning: Recall is ill-defined and being set to 0.0 in labels with no true samples. Use `zero_division` parameter to control this behavior.\n",
            "  _warn_prf(average, modifier, f\"{metric.capitalize()} is\", len(result))\n",
            "/usr/local/lib/python3.10/dist-packages/sklearn/metrics/_classification.py:1565: UndefinedMetricWarning: Precision is ill-defined and being set to 0.0 in labels with no predicted samples. Use `zero_division` parameter to control this behavior.\n",
            "  _warn_prf(average, modifier, f\"{metric.capitalize()} is\", len(result))\n",
            "/usr/local/lib/python3.10/dist-packages/sklearn/metrics/_classification.py:1565: UndefinedMetricWarning: Recall is ill-defined and being set to 0.0 in labels with no true samples. Use `zero_division` parameter to control this behavior.\n",
            "  _warn_prf(average, modifier, f\"{metric.capitalize()} is\", len(result))\n"
          ]
        }
      ],
      "source": [
        "print(metrics.classification_report(y_test, preds))"
      ]
    }
  ],
  "metadata": {
    "colab": {
      "provenance": []
    },
    "kernelspec": {
      "display_name": "Python 3",
      "name": "python3"
    },
    "language_info": {
      "name": "python"
    }
  },
  "nbformat": 4,
  "nbformat_minor": 0
}